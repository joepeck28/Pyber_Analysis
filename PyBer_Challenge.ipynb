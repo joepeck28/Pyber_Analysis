{
 "cells": [
  {
   "cell_type": "markdown",
   "metadata": {},
   "source": [
    "# Pyber Challenge"
   ]
  },
  {
   "cell_type": "markdown",
   "metadata": {},
   "source": [
    "### 4.3 Loading and Reading CSV files"
   ]
  },
  {
   "cell_type": "code",
   "execution_count": 66,
   "metadata": {},
   "outputs": [],
   "source": [
    "# Add Matplotlib inline magic command\n",
    "%matplotlib inline\n",
    "# Dependencies and Setup\n",
    "import matplotlib.pyplot as plt\n",
    "import pandas as pd\n",
    "\n",
    "# File to Load (Remember to change these)\n",
    "city_data_to_load = \"Resources/city_data.csv\"\n",
    "ride_data_to_load = \"Resources/ride_data.csv\"\n",
    "\n",
    "# Read the City and Ride Data\n",
    "city_data_df = pd.read_csv(city_data_to_load)\n",
    "ride_data_df = pd.read_csv(ride_data_to_load)"
   ]
  },
  {
   "cell_type": "markdown",
   "metadata": {},
   "source": [
    "### Merge the DataFrames"
   ]
  },
  {
   "cell_type": "code",
   "execution_count": 2,
   "metadata": {
    "scrolled": true
   },
   "outputs": [
    {
     "data": {
      "text/html": [
       "<div>\n",
       "<style scoped>\n",
       "    .dataframe tbody tr th:only-of-type {\n",
       "        vertical-align: middle;\n",
       "    }\n",
       "\n",
       "    .dataframe tbody tr th {\n",
       "        vertical-align: top;\n",
       "    }\n",
       "\n",
       "    .dataframe thead th {\n",
       "        text-align: right;\n",
       "    }\n",
       "</style>\n",
       "<table border=\"1\" class=\"dataframe\">\n",
       "  <thead>\n",
       "    <tr style=\"text-align: right;\">\n",
       "      <th></th>\n",
       "      <th>city</th>\n",
       "      <th>date</th>\n",
       "      <th>fare</th>\n",
       "      <th>ride_id</th>\n",
       "      <th>driver_count</th>\n",
       "      <th>type</th>\n",
       "    </tr>\n",
       "  </thead>\n",
       "  <tbody>\n",
       "    <tr>\n",
       "      <th>0</th>\n",
       "      <td>Lake Jonathanshire</td>\n",
       "      <td>2019-01-14 10:14:22</td>\n",
       "      <td>13.83</td>\n",
       "      <td>5739410935873</td>\n",
       "      <td>5</td>\n",
       "      <td>Urban</td>\n",
       "    </tr>\n",
       "    <tr>\n",
       "      <th>1</th>\n",
       "      <td>South Michelleport</td>\n",
       "      <td>2019-03-04 18:24:09</td>\n",
       "      <td>30.24</td>\n",
       "      <td>2343912425577</td>\n",
       "      <td>72</td>\n",
       "      <td>Urban</td>\n",
       "    </tr>\n",
       "    <tr>\n",
       "      <th>2</th>\n",
       "      <td>Port Samanthamouth</td>\n",
       "      <td>2019-02-24 04:29:00</td>\n",
       "      <td>33.44</td>\n",
       "      <td>2005065760003</td>\n",
       "      <td>57</td>\n",
       "      <td>Urban</td>\n",
       "    </tr>\n",
       "    <tr>\n",
       "      <th>3</th>\n",
       "      <td>Rodneyfort</td>\n",
       "      <td>2019-02-10 23:22:03</td>\n",
       "      <td>23.44</td>\n",
       "      <td>5149245426178</td>\n",
       "      <td>34</td>\n",
       "      <td>Urban</td>\n",
       "    </tr>\n",
       "    <tr>\n",
       "      <th>4</th>\n",
       "      <td>South Jack</td>\n",
       "      <td>2019-03-06 04:28:35</td>\n",
       "      <td>34.58</td>\n",
       "      <td>3908451377344</td>\n",
       "      <td>46</td>\n",
       "      <td>Urban</td>\n",
       "    </tr>\n",
       "  </tbody>\n",
       "</table>\n",
       "</div>"
      ],
      "text/plain": [
       "                 city                 date   fare        ride_id  \\\n",
       "0  Lake Jonathanshire  2019-01-14 10:14:22  13.83  5739410935873   \n",
       "1  South Michelleport  2019-03-04 18:24:09  30.24  2343912425577   \n",
       "2  Port Samanthamouth  2019-02-24 04:29:00  33.44  2005065760003   \n",
       "3          Rodneyfort  2019-02-10 23:22:03  23.44  5149245426178   \n",
       "4          South Jack  2019-03-06 04:28:35  34.58  3908451377344   \n",
       "\n",
       "   driver_count   type  \n",
       "0             5  Urban  \n",
       "1            72  Urban  \n",
       "2            57  Urban  \n",
       "3            34  Urban  \n",
       "4            46  Urban  "
      ]
     },
     "execution_count": 2,
     "metadata": {},
     "output_type": "execute_result"
    }
   ],
   "source": [
    "# Combine the data into a single dataset\n",
    "pyber_data_df = pd.merge(ride_data_df, city_data_df, how=\"left\", on=[\"city\", \"city\"])\n",
    "\n",
    "# Display the data table for preview\n",
    "pyber_data_df.head()"
   ]
  },
  {
   "cell_type": "code",
   "execution_count": null,
   "metadata": {},
   "outputs": [],
   "source": []
  },
  {
   "cell_type": "markdown",
   "metadata": {},
   "source": [
    "## Deliverable 1: Get a Summary DataFrame "
   ]
  },
  {
   "cell_type": "code",
   "execution_count": 3,
   "metadata": {},
   "outputs": [
    {
     "data": {
      "text/plain": [
       "type\n",
       "Rural        125\n",
       "Suburban     625\n",
       "Urban       1625\n",
       "Name: ride_id, dtype: int64"
      ]
     },
     "execution_count": 3,
     "metadata": {},
     "output_type": "execute_result"
    }
   ],
   "source": [
    "#  1. Get the total rides for each city type\n",
    "ride_count = pyber_data_df.groupby([\"type\"]).count()[\"ride_id\"]\n",
    "ride_count"
   ]
  },
  {
   "cell_type": "code",
   "execution_count": 4,
   "metadata": {},
   "outputs": [
    {
     "data": {
      "text/html": [
       "<div>\n",
       "<style scoped>\n",
       "    .dataframe tbody tr th:only-of-type {\n",
       "        vertical-align: middle;\n",
       "    }\n",
       "\n",
       "    .dataframe tbody tr th {\n",
       "        vertical-align: top;\n",
       "    }\n",
       "\n",
       "    .dataframe thead th {\n",
       "        text-align: right;\n",
       "    }\n",
       "</style>\n",
       "<table border=\"1\" class=\"dataframe\">\n",
       "  <thead>\n",
       "    <tr style=\"text-align: right;\">\n",
       "      <th></th>\n",
       "      <th>city</th>\n",
       "      <th>date</th>\n",
       "      <th>fare</th>\n",
       "      <th>ride_id</th>\n",
       "      <th>driver_count</th>\n",
       "      <th>type</th>\n",
       "    </tr>\n",
       "  </thead>\n",
       "  <tbody>\n",
       "    <tr>\n",
       "      <th>0</th>\n",
       "      <td>Lake Jonathanshire</td>\n",
       "      <td>2019-01-14 10:14:22</td>\n",
       "      <td>13.83</td>\n",
       "      <td>5739410935873</td>\n",
       "      <td>5</td>\n",
       "      <td>Urban</td>\n",
       "    </tr>\n",
       "    <tr>\n",
       "      <th>1</th>\n",
       "      <td>South Michelleport</td>\n",
       "      <td>2019-03-04 18:24:09</td>\n",
       "      <td>30.24</td>\n",
       "      <td>2343912425577</td>\n",
       "      <td>72</td>\n",
       "      <td>Urban</td>\n",
       "    </tr>\n",
       "    <tr>\n",
       "      <th>2</th>\n",
       "      <td>Port Samanthamouth</td>\n",
       "      <td>2019-02-24 04:29:00</td>\n",
       "      <td>33.44</td>\n",
       "      <td>2005065760003</td>\n",
       "      <td>57</td>\n",
       "      <td>Urban</td>\n",
       "    </tr>\n",
       "    <tr>\n",
       "      <th>3</th>\n",
       "      <td>Rodneyfort</td>\n",
       "      <td>2019-02-10 23:22:03</td>\n",
       "      <td>23.44</td>\n",
       "      <td>5149245426178</td>\n",
       "      <td>34</td>\n",
       "      <td>Urban</td>\n",
       "    </tr>\n",
       "    <tr>\n",
       "      <th>4</th>\n",
       "      <td>South Jack</td>\n",
       "      <td>2019-03-06 04:28:35</td>\n",
       "      <td>34.58</td>\n",
       "      <td>3908451377344</td>\n",
       "      <td>46</td>\n",
       "      <td>Urban</td>\n",
       "    </tr>\n",
       "  </tbody>\n",
       "</table>\n",
       "</div>"
      ],
      "text/plain": [
       "                 city                 date   fare        ride_id  \\\n",
       "0  Lake Jonathanshire  2019-01-14 10:14:22  13.83  5739410935873   \n",
       "1  South Michelleport  2019-03-04 18:24:09  30.24  2343912425577   \n",
       "2  Port Samanthamouth  2019-02-24 04:29:00  33.44  2005065760003   \n",
       "3          Rodneyfort  2019-02-10 23:22:03  23.44  5149245426178   \n",
       "4          South Jack  2019-03-06 04:28:35  34.58  3908451377344   \n",
       "\n",
       "   driver_count   type  \n",
       "0             5  Urban  \n",
       "1            72  Urban  \n",
       "2            57  Urban  \n",
       "3            34  Urban  \n",
       "4            46  Urban  "
      ]
     },
     "execution_count": 4,
     "metadata": {},
     "output_type": "execute_result"
    }
   ],
   "source": [
    "urban_cities_df = pyber_data_df[pyber_data_df[\"type\"] == \"Urban\"]\n",
    "suburban_cities_df = pyber_data_df[pyber_data_df[\"type\"] == \"Suburban\"]\n",
    "rural_cities_df = pyber_data_df[pyber_data_df[\"type\"] == \"Rural\"]\n",
    "urban_cities_df.head()"
   ]
  },
  {
   "cell_type": "code",
   "execution_count": 5,
   "metadata": {},
   "outputs": [
    {
     "data": {
      "text/plain": [
       "type\n",
       "Rural         78\n",
       "Suburban     490\n",
       "Urban       2405\n",
       "Name: driver_count, dtype: int64"
      ]
     },
     "execution_count": 5,
     "metadata": {},
     "output_type": "execute_result"
    }
   ],
   "source": [
    "# 2. Get the total drivers for each city type\n",
    "drivers_by_city_type = city_data_df.groupby([\"type\"])[\"driver_count\"].sum()\n",
    "drivers_by_city_type"
   ]
  },
  {
   "cell_type": "code",
   "execution_count": 6,
   "metadata": {},
   "outputs": [
    {
     "data": {
      "text/plain": [
       "type\n",
       "Rural        4327.93\n",
       "Suburban    19356.33\n",
       "Urban       39854.38\n",
       "Name: fare, dtype: float64"
      ]
     },
     "execution_count": 6,
     "metadata": {},
     "output_type": "execute_result"
    }
   ],
   "source": [
    "#  3. Get the total amount of fares for each city type\n",
    "fare_sums = pyber_data_df.groupby([\"type\"]).sum()[\"fare\"]\n",
    "fare_sums"
   ]
  },
  {
   "cell_type": "code",
   "execution_count": 7,
   "metadata": {},
   "outputs": [
    {
     "data": {
      "text/plain": [
       "type\n",
       "Rural       34.623440\n",
       "Suburban    30.970128\n",
       "Urban       24.525772\n",
       "Name: fare, dtype: float64"
      ]
     },
     "execution_count": 7,
     "metadata": {},
     "output_type": "execute_result"
    }
   ],
   "source": [
    "#  4. Get the average fare per ride for each city type. \n",
    "avg_fare = pyber_data_df.groupby([\"type\"]).mean()[\"fare\"]\n",
    "avg_fare"
   ]
  },
  {
   "cell_type": "code",
   "execution_count": 8,
   "metadata": {},
   "outputs": [
    {
     "data": {
      "text/plain": [
       "type\n",
       "Rural       55.486282\n",
       "Suburban    39.502714\n",
       "Urban       16.571468\n",
       "dtype: float64"
      ]
     },
     "execution_count": 8,
     "metadata": {},
     "output_type": "execute_result"
    }
   ],
   "source": [
    "# 5. Get the average fare per driver for each city type. \n",
    "avg_fare_per_driver = pyber_data_df.groupby([\"type\"]).sum()[\"fare\"] / city_data_df.groupby([\"type\"])[\"driver_count\"].sum()\n",
    "avg_fare_per_driver"
   ]
  },
  {
   "cell_type": "code",
   "execution_count": 9,
   "metadata": {},
   "outputs": [],
   "source": [
    "#  6. Create a PyBer summary DataFrame. \n",
    "d = {'Total Rides': pd.Series([125, 625, 1625],\n",
    "                      index=['Rural', 'Suburban', 'Urban']),\n",
    "     'Total Drivers': pd.Series([78, 490, 2405],\n",
    "                      index=['Rural', 'Suburban', 'Urban']),\n",
    "     'Total Fares': pd.Series(['$4,327.93', '$19,356.33', '$39,854.38'],\n",
    "                              index=['Rural', 'Suburban', 'Urban']),           \n",
    "     'Average Fare per Ride': pd.Series(['$34.62', '$30.97', '$24.53'],\n",
    "                                        index=['Rural', 'Suburban', 'Urban']),\n",
    "     'Average Fare per Driver': pd.Series(['$55.49', '$39.50', '$16.57'],\n",
    "                                          index=['Rural', 'Suburban', 'Urban']),\n",
    "                                          \n",
    "    }"
   ]
  },
  {
   "cell_type": "code",
   "execution_count": 10,
   "metadata": {},
   "outputs": [],
   "source": [
    "pyber_summary_df = pd.DataFrame(d)"
   ]
  },
  {
   "cell_type": "code",
   "execution_count": 11,
   "metadata": {},
   "outputs": [],
   "source": [
    "#  7. Cleaning up the DataFrame. Delete the index name\n",
    "pyber_summary_df.index.name = None"
   ]
  },
  {
   "cell_type": "code",
   "execution_count": 12,
   "metadata": {},
   "outputs": [
    {
     "data": {
      "text/html": [
       "<div>\n",
       "<style scoped>\n",
       "    .dataframe tbody tr th:only-of-type {\n",
       "        vertical-align: middle;\n",
       "    }\n",
       "\n",
       "    .dataframe tbody tr th {\n",
       "        vertical-align: top;\n",
       "    }\n",
       "\n",
       "    .dataframe thead th {\n",
       "        text-align: right;\n",
       "    }\n",
       "</style>\n",
       "<table border=\"1\" class=\"dataframe\">\n",
       "  <thead>\n",
       "    <tr style=\"text-align: right;\">\n",
       "      <th></th>\n",
       "      <th>Total Rides</th>\n",
       "      <th>Total Drivers</th>\n",
       "      <th>Total Fares</th>\n",
       "      <th>Average Fare per Ride</th>\n",
       "      <th>Average Fare per Driver</th>\n",
       "    </tr>\n",
       "  </thead>\n",
       "  <tbody>\n",
       "    <tr>\n",
       "      <th>Rural</th>\n",
       "      <td>125</td>\n",
       "      <td>78</td>\n",
       "      <td>$4,327.93</td>\n",
       "      <td>$34.62</td>\n",
       "      <td>$55.49</td>\n",
       "    </tr>\n",
       "    <tr>\n",
       "      <th>Suburban</th>\n",
       "      <td>625</td>\n",
       "      <td>490</td>\n",
       "      <td>$19,356.33</td>\n",
       "      <td>$30.97</td>\n",
       "      <td>$39.50</td>\n",
       "    </tr>\n",
       "    <tr>\n",
       "      <th>Urban</th>\n",
       "      <td>1625</td>\n",
       "      <td>2405</td>\n",
       "      <td>$39,854.38</td>\n",
       "      <td>$24.53</td>\n",
       "      <td>$16.57</td>\n",
       "    </tr>\n",
       "  </tbody>\n",
       "</table>\n",
       "</div>"
      ],
      "text/plain": [
       "          Total Rides  Total Drivers Total Fares Average Fare per Ride  \\\n",
       "Rural             125             78   $4,327.93                $34.62   \n",
       "Suburban          625            490  $19,356.33                $30.97   \n",
       "Urban            1625           2405  $39,854.38                $24.53   \n",
       "\n",
       "         Average Fare per Driver  \n",
       "Rural                     $55.49  \n",
       "Suburban                  $39.50  \n",
       "Urban                     $16.57  "
      ]
     },
     "execution_count": 12,
     "metadata": {},
     "output_type": "execute_result"
    }
   ],
   "source": [
    "#  8. Format the columns.\n",
    "pyber_summary_df"
   ]
  },
  {
   "cell_type": "markdown",
   "metadata": {},
   "source": [
    "## Deliverable 2.  Create a multiple line plot that shows the total weekly of the fares for each type of city."
   ]
  },
  {
   "cell_type": "code",
   "execution_count": 29,
   "metadata": {},
   "outputs": [
    {
     "data": {
      "text/html": [
       "<div>\n",
       "<style scoped>\n",
       "    .dataframe tbody tr th:only-of-type {\n",
       "        vertical-align: middle;\n",
       "    }\n",
       "\n",
       "    .dataframe tbody tr th {\n",
       "        vertical-align: top;\n",
       "    }\n",
       "\n",
       "    .dataframe thead th {\n",
       "        text-align: right;\n",
       "    }\n",
       "</style>\n",
       "<table border=\"1\" class=\"dataframe\">\n",
       "  <thead>\n",
       "    <tr style=\"text-align: right;\">\n",
       "      <th></th>\n",
       "      <th>city</th>\n",
       "      <th>date</th>\n",
       "      <th>fare</th>\n",
       "      <th>ride_id</th>\n",
       "      <th>driver_count</th>\n",
       "      <th>type</th>\n",
       "    </tr>\n",
       "  </thead>\n",
       "  <tbody>\n",
       "    <tr>\n",
       "      <th>0</th>\n",
       "      <td>Lake Jonathanshire</td>\n",
       "      <td>2019-01-14 10:14:22</td>\n",
       "      <td>13.83</td>\n",
       "      <td>5739410935873</td>\n",
       "      <td>5</td>\n",
       "      <td>Urban</td>\n",
       "    </tr>\n",
       "    <tr>\n",
       "      <th>1</th>\n",
       "      <td>South Michelleport</td>\n",
       "      <td>2019-03-04 18:24:09</td>\n",
       "      <td>30.24</td>\n",
       "      <td>2343912425577</td>\n",
       "      <td>72</td>\n",
       "      <td>Urban</td>\n",
       "    </tr>\n",
       "    <tr>\n",
       "      <th>2</th>\n",
       "      <td>Port Samanthamouth</td>\n",
       "      <td>2019-02-24 04:29:00</td>\n",
       "      <td>33.44</td>\n",
       "      <td>2005065760003</td>\n",
       "      <td>57</td>\n",
       "      <td>Urban</td>\n",
       "    </tr>\n",
       "    <tr>\n",
       "      <th>3</th>\n",
       "      <td>Rodneyfort</td>\n",
       "      <td>2019-02-10 23:22:03</td>\n",
       "      <td>23.44</td>\n",
       "      <td>5149245426178</td>\n",
       "      <td>34</td>\n",
       "      <td>Urban</td>\n",
       "    </tr>\n",
       "    <tr>\n",
       "      <th>4</th>\n",
       "      <td>South Jack</td>\n",
       "      <td>2019-03-06 04:28:35</td>\n",
       "      <td>34.58</td>\n",
       "      <td>3908451377344</td>\n",
       "      <td>46</td>\n",
       "      <td>Urban</td>\n",
       "    </tr>\n",
       "    <tr>\n",
       "      <th>...</th>\n",
       "      <td>...</td>\n",
       "      <td>...</td>\n",
       "      <td>...</td>\n",
       "      <td>...</td>\n",
       "      <td>...</td>\n",
       "      <td>...</td>\n",
       "    </tr>\n",
       "    <tr>\n",
       "      <th>2370</th>\n",
       "      <td>Michaelberg</td>\n",
       "      <td>2019-04-29 17:04:39</td>\n",
       "      <td>13.38</td>\n",
       "      <td>8550365057598</td>\n",
       "      <td>6</td>\n",
       "      <td>Rural</td>\n",
       "    </tr>\n",
       "    <tr>\n",
       "      <th>2371</th>\n",
       "      <td>Lake Latoyabury</td>\n",
       "      <td>2019-01-30 00:05:47</td>\n",
       "      <td>20.76</td>\n",
       "      <td>9018727594352</td>\n",
       "      <td>2</td>\n",
       "      <td>Rural</td>\n",
       "    </tr>\n",
       "    <tr>\n",
       "      <th>2372</th>\n",
       "      <td>North Jaime</td>\n",
       "      <td>2019-02-10 21:03:50</td>\n",
       "      <td>11.11</td>\n",
       "      <td>2781339863778</td>\n",
       "      <td>1</td>\n",
       "      <td>Rural</td>\n",
       "    </tr>\n",
       "    <tr>\n",
       "      <th>2373</th>\n",
       "      <td>West Heather</td>\n",
       "      <td>2019-05-07 19:22:15</td>\n",
       "      <td>44.94</td>\n",
       "      <td>4256853490277</td>\n",
       "      <td>4</td>\n",
       "      <td>Rural</td>\n",
       "    </tr>\n",
       "    <tr>\n",
       "      <th>2374</th>\n",
       "      <td>Newtonview</td>\n",
       "      <td>2019-04-25 10:20:13</td>\n",
       "      <td>55.84</td>\n",
       "      <td>9990581345298</td>\n",
       "      <td>1</td>\n",
       "      <td>Rural</td>\n",
       "    </tr>\n",
       "  </tbody>\n",
       "</table>\n",
       "<p>2375 rows × 6 columns</p>\n",
       "</div>"
      ],
      "text/plain": [
       "                    city                 date   fare        ride_id  \\\n",
       "0     Lake Jonathanshire  2019-01-14 10:14:22  13.83  5739410935873   \n",
       "1     South Michelleport  2019-03-04 18:24:09  30.24  2343912425577   \n",
       "2     Port Samanthamouth  2019-02-24 04:29:00  33.44  2005065760003   \n",
       "3             Rodneyfort  2019-02-10 23:22:03  23.44  5149245426178   \n",
       "4             South Jack  2019-03-06 04:28:35  34.58  3908451377344   \n",
       "...                  ...                  ...    ...            ...   \n",
       "2370         Michaelberg  2019-04-29 17:04:39  13.38  8550365057598   \n",
       "2371     Lake Latoyabury  2019-01-30 00:05:47  20.76  9018727594352   \n",
       "2372         North Jaime  2019-02-10 21:03:50  11.11  2781339863778   \n",
       "2373        West Heather  2019-05-07 19:22:15  44.94  4256853490277   \n",
       "2374          Newtonview  2019-04-25 10:20:13  55.84  9990581345298   \n",
       "\n",
       "      driver_count   type  \n",
       "0                5  Urban  \n",
       "1               72  Urban  \n",
       "2               57  Urban  \n",
       "3               34  Urban  \n",
       "4               46  Urban  \n",
       "...            ...    ...  \n",
       "2370             6  Rural  \n",
       "2371             2  Rural  \n",
       "2372             1  Rural  \n",
       "2373             4  Rural  \n",
       "2374             1  Rural  \n",
       "\n",
       "[2375 rows x 6 columns]"
      ]
     },
     "execution_count": 29,
     "metadata": {},
     "output_type": "execute_result"
    }
   ],
   "source": [
    "# 1. Read the merged DataFrame\n",
    "pyber_data_df"
   ]
  },
  {
   "cell_type": "code",
   "execution_count": 30,
   "metadata": {},
   "outputs": [],
   "source": [
    "# 2. Using groupby() to create a new DataFrame showing the sum of the fares \n",
    "#  for each date where the indices are the city type and date.\n",
    "pyber_data_df_date = pyber_data_df.groupby(['date','type'])[['fare']].sum()"
   ]
  },
  {
   "cell_type": "code",
   "execution_count": 35,
   "metadata": {},
   "outputs": [],
   "source": [
    "# 3. Create a new variable and Reset the index on the DataFrame you created in #1. This is needed to use the 'pivot()' function.\n",
    "# df = df.reset_index()\n",
    "sum_fare_by_type = pyber_data_df_date.reset_index()"
   ]
  },
  {
   "cell_type": "code",
   "execution_count": 36,
   "metadata": {},
   "outputs": [
    {
     "data": {
      "text/html": [
       "<div>\n",
       "<style scoped>\n",
       "    .dataframe tbody tr th:only-of-type {\n",
       "        vertical-align: middle;\n",
       "    }\n",
       "\n",
       "    .dataframe tbody tr th {\n",
       "        vertical-align: top;\n",
       "    }\n",
       "\n",
       "    .dataframe thead th {\n",
       "        text-align: right;\n",
       "    }\n",
       "</style>\n",
       "<table border=\"1\" class=\"dataframe\">\n",
       "  <thead>\n",
       "    <tr style=\"text-align: right;\">\n",
       "      <th>type</th>\n",
       "      <th>Rural</th>\n",
       "      <th>Suburban</th>\n",
       "      <th>Urban</th>\n",
       "    </tr>\n",
       "    <tr>\n",
       "      <th>date</th>\n",
       "      <th></th>\n",
       "      <th></th>\n",
       "      <th></th>\n",
       "    </tr>\n",
       "  </thead>\n",
       "  <tbody>\n",
       "    <tr>\n",
       "      <th>2019-01-01 00:08:16</th>\n",
       "      <td>NaN</td>\n",
       "      <td>NaN</td>\n",
       "      <td>37.91</td>\n",
       "    </tr>\n",
       "    <tr>\n",
       "      <th>2019-01-01 00:46:46</th>\n",
       "      <td>NaN</td>\n",
       "      <td>47.74</td>\n",
       "      <td>NaN</td>\n",
       "    </tr>\n",
       "    <tr>\n",
       "      <th>2019-01-01 02:07:24</th>\n",
       "      <td>NaN</td>\n",
       "      <td>24.07</td>\n",
       "      <td>NaN</td>\n",
       "    </tr>\n",
       "    <tr>\n",
       "      <th>2019-01-01 03:46:50</th>\n",
       "      <td>NaN</td>\n",
       "      <td>NaN</td>\n",
       "      <td>7.57</td>\n",
       "    </tr>\n",
       "    <tr>\n",
       "      <th>2019-01-01 05:23:21</th>\n",
       "      <td>NaN</td>\n",
       "      <td>NaN</td>\n",
       "      <td>10.75</td>\n",
       "    </tr>\n",
       "    <tr>\n",
       "      <th>2019-01-01 09:45:36</th>\n",
       "      <td>43.69</td>\n",
       "      <td>NaN</td>\n",
       "      <td>NaN</td>\n",
       "    </tr>\n",
       "    <tr>\n",
       "      <th>2019-01-01 12:32:48</th>\n",
       "      <td>NaN</td>\n",
       "      <td>25.56</td>\n",
       "      <td>NaN</td>\n",
       "    </tr>\n",
       "    <tr>\n",
       "      <th>2019-01-01 14:40:14</th>\n",
       "      <td>NaN</td>\n",
       "      <td>NaN</td>\n",
       "      <td>5.42</td>\n",
       "    </tr>\n",
       "    <tr>\n",
       "      <th>2019-01-01 14:42:25</th>\n",
       "      <td>NaN</td>\n",
       "      <td>NaN</td>\n",
       "      <td>12.31</td>\n",
       "    </tr>\n",
       "    <tr>\n",
       "      <th>2019-01-01 14:52:06</th>\n",
       "      <td>NaN</td>\n",
       "      <td>31.15</td>\n",
       "      <td>NaN</td>\n",
       "    </tr>\n",
       "  </tbody>\n",
       "</table>\n",
       "</div>"
      ],
      "text/plain": [
       "type                 Rural  Suburban  Urban\n",
       "date                                       \n",
       "2019-01-01 00:08:16    NaN       NaN  37.91\n",
       "2019-01-01 00:46:46    NaN     47.74    NaN\n",
       "2019-01-01 02:07:24    NaN     24.07    NaN\n",
       "2019-01-01 03:46:50    NaN       NaN   7.57\n",
       "2019-01-01 05:23:21    NaN       NaN  10.75\n",
       "2019-01-01 09:45:36  43.69       NaN    NaN\n",
       "2019-01-01 12:32:48    NaN     25.56    NaN\n",
       "2019-01-01 14:40:14    NaN       NaN   5.42\n",
       "2019-01-01 14:42:25    NaN       NaN  12.31\n",
       "2019-01-01 14:52:06    NaN     31.15    NaN"
      ]
     },
     "execution_count": 36,
     "metadata": {},
     "output_type": "execute_result"
    }
   ],
   "source": [
    "# 4. Create a pivot table with the 'date' as the index, the columns ='type', and values='fare' \n",
    "# to get the total fares for each type of city by the date. \n",
    "sum_fare_by_type_pivot = sum_fare_by_type.pivot(index=\"date\", columns=\"type\", values=\"fare\")\n",
    "sum_fare_by_type_pivot.head(10)"
   ]
  },
  {
   "cell_type": "code",
   "execution_count": 46,
   "metadata": {},
   "outputs": [],
   "source": [
    "# 5. Create a new DataFrame from the pivot table DataFrame using loc on the given dates, '2019-01-01':'2019-04-29'.\n",
    "fares_jan19_apr19 = sum_fare_by_type_pivot.loc['2019-01-01':'2019-04-29']"
   ]
  },
  {
   "cell_type": "code",
   "execution_count": 47,
   "metadata": {},
   "outputs": [],
   "source": [
    "# 6. Set the \"date\" index to datetime datatype. This is necessary to use the resample() method in Step 8.\n",
    "# df.index = pd.to_datetime(df.index)\n",
    "fares_jan19_apr19.index = pd.to_datetime(fares_jan19_apr19.index)"
   ]
  },
  {
   "cell_type": "code",
   "execution_count": 48,
   "metadata": {},
   "outputs": [
    {
     "name": "stdout",
     "output_type": "stream",
     "text": [
      "<class 'pandas.core.frame.DataFrame'>\n",
      "DatetimeIndex: 2196 entries, 2019-01-01 00:08:16 to 2019-04-28 19:35:03\n",
      "Data columns (total 3 columns):\n",
      " #   Column    Non-Null Count  Dtype  \n",
      "---  ------    --------------  -----  \n",
      " 0   Rural     114 non-null    float64\n",
      " 1   Suburban  573 non-null    float64\n",
      " 2   Urban     1509 non-null   float64\n",
      "dtypes: float64(3)\n",
      "memory usage: 68.6 KB\n"
     ]
    }
   ],
   "source": [
    "# 7. Check that the datatype for the index is datetime using df.info()\n",
    "fares_jan19_apr19.info()"
   ]
  },
  {
   "cell_type": "code",
   "execution_count": 80,
   "metadata": {},
   "outputs": [
    {
     "data": {
      "text/html": [
       "<div>\n",
       "<style scoped>\n",
       "    .dataframe tbody tr th:only-of-type {\n",
       "        vertical-align: middle;\n",
       "    }\n",
       "\n",
       "    .dataframe tbody tr th {\n",
       "        vertical-align: top;\n",
       "    }\n",
       "\n",
       "    .dataframe thead th {\n",
       "        text-align: right;\n",
       "    }\n",
       "</style>\n",
       "<table border=\"1\" class=\"dataframe\">\n",
       "  <thead>\n",
       "    <tr style=\"text-align: right;\">\n",
       "      <th>type</th>\n",
       "      <th>Rural</th>\n",
       "      <th>Suburban</th>\n",
       "      <th>Urban</th>\n",
       "    </tr>\n",
       "    <tr>\n",
       "      <th>date</th>\n",
       "      <th></th>\n",
       "      <th></th>\n",
       "      <th></th>\n",
       "    </tr>\n",
       "  </thead>\n",
       "  <tbody>\n",
       "    <tr>\n",
       "      <th>2019-01-06</th>\n",
       "      <td>187.92</td>\n",
       "      <td>721.60</td>\n",
       "      <td>1661.68</td>\n",
       "    </tr>\n",
       "    <tr>\n",
       "      <th>2019-01-13</th>\n",
       "      <td>67.65</td>\n",
       "      <td>1105.13</td>\n",
       "      <td>2050.43</td>\n",
       "    </tr>\n",
       "    <tr>\n",
       "      <th>2019-01-20</th>\n",
       "      <td>306.00</td>\n",
       "      <td>1218.20</td>\n",
       "      <td>1939.02</td>\n",
       "    </tr>\n",
       "    <tr>\n",
       "      <th>2019-01-27</th>\n",
       "      <td>179.69</td>\n",
       "      <td>1203.28</td>\n",
       "      <td>2129.51</td>\n",
       "    </tr>\n",
       "    <tr>\n",
       "      <th>2019-02-03</th>\n",
       "      <td>333.08</td>\n",
       "      <td>1042.79</td>\n",
       "      <td>2086.94</td>\n",
       "    </tr>\n",
       "    <tr>\n",
       "      <th>2019-02-10</th>\n",
       "      <td>115.80</td>\n",
       "      <td>974.34</td>\n",
       "      <td>2162.64</td>\n",
       "    </tr>\n",
       "    <tr>\n",
       "      <th>2019-02-17</th>\n",
       "      <td>95.82</td>\n",
       "      <td>1045.50</td>\n",
       "      <td>2235.07</td>\n",
       "    </tr>\n",
       "    <tr>\n",
       "      <th>2019-02-24</th>\n",
       "      <td>419.06</td>\n",
       "      <td>1412.74</td>\n",
       "      <td>2466.29</td>\n",
       "    </tr>\n",
       "    <tr>\n",
       "      <th>2019-03-03</th>\n",
       "      <td>175.14</td>\n",
       "      <td>858.46</td>\n",
       "      <td>2218.20</td>\n",
       "    </tr>\n",
       "    <tr>\n",
       "      <th>2019-03-10</th>\n",
       "      <td>303.94</td>\n",
       "      <td>925.27</td>\n",
       "      <td>2470.93</td>\n",
       "    </tr>\n",
       "    <tr>\n",
       "      <th>2019-03-17</th>\n",
       "      <td>163.39</td>\n",
       "      <td>906.20</td>\n",
       "      <td>2044.42</td>\n",
       "    </tr>\n",
       "    <tr>\n",
       "      <th>2019-03-24</th>\n",
       "      <td>189.76</td>\n",
       "      <td>1122.20</td>\n",
       "      <td>2368.37</td>\n",
       "    </tr>\n",
       "    <tr>\n",
       "      <th>2019-03-31</th>\n",
       "      <td>199.42</td>\n",
       "      <td>1045.06</td>\n",
       "      <td>1942.77</td>\n",
       "    </tr>\n",
       "    <tr>\n",
       "      <th>2019-04-07</th>\n",
       "      <td>501.24</td>\n",
       "      <td>1010.73</td>\n",
       "      <td>2356.70</td>\n",
       "    </tr>\n",
       "    <tr>\n",
       "      <th>2019-04-14</th>\n",
       "      <td>269.79</td>\n",
       "      <td>784.82</td>\n",
       "      <td>2390.72</td>\n",
       "    </tr>\n",
       "    <tr>\n",
       "      <th>2019-04-21</th>\n",
       "      <td>214.14</td>\n",
       "      <td>1149.27</td>\n",
       "      <td>2303.80</td>\n",
       "    </tr>\n",
       "    <tr>\n",
       "      <th>2019-04-28</th>\n",
       "      <td>191.85</td>\n",
       "      <td>1357.75</td>\n",
       "      <td>2238.29</td>\n",
       "    </tr>\n",
       "  </tbody>\n",
       "</table>\n",
       "</div>"
      ],
      "text/plain": [
       "type         Rural  Suburban    Urban\n",
       "date                                 \n",
       "2019-01-06  187.92    721.60  1661.68\n",
       "2019-01-13   67.65   1105.13  2050.43\n",
       "2019-01-20  306.00   1218.20  1939.02\n",
       "2019-01-27  179.69   1203.28  2129.51\n",
       "2019-02-03  333.08   1042.79  2086.94\n",
       "2019-02-10  115.80    974.34  2162.64\n",
       "2019-02-17   95.82   1045.50  2235.07\n",
       "2019-02-24  419.06   1412.74  2466.29\n",
       "2019-03-03  175.14    858.46  2218.20\n",
       "2019-03-10  303.94    925.27  2470.93\n",
       "2019-03-17  163.39    906.20  2044.42\n",
       "2019-03-24  189.76   1122.20  2368.37\n",
       "2019-03-31  199.42   1045.06  1942.77\n",
       "2019-04-07  501.24   1010.73  2356.70\n",
       "2019-04-14  269.79    784.82  2390.72\n",
       "2019-04-21  214.14   1149.27  2303.80\n",
       "2019-04-28  191.85   1357.75  2238.29"
      ]
     },
     "execution_count": 80,
     "metadata": {},
     "output_type": "execute_result"
    }
   ],
   "source": [
    "# 8. Create a new DataFrame using the \"resample()\" function by week 'W' and get the sum of the fares for each week.\n",
    "fares_jan19_apr19=fares_jan19_apr19.resample('W').sum()\n",
    "fares_jan19_apr19"
   ]
  },
  {
   "cell_type": "code",
   "execution_count": 130,
   "metadata": {},
   "outputs": [],
   "source": [
    "%matplotlib widget\n",
    "from matplotlib import style\n",
    "# Use the graph style fivethirtyeight.\n",
    "style.use('fivethirtyeight');"
   ]
  },
  {
   "cell_type": "code",
   "execution_count": 131,
   "metadata": {},
   "outputs": [
    {
     "data": {
      "application/vnd.jupyter.widget-view+json": {
       "model_id": "15a6cecd8b334e7d82b9c078bbac605a",
       "version_major": 2,
       "version_minor": 0
      },
      "image/png": "[encoded data removed]",
      "text/html": [
       "\n",
       "            <div style=\"display: inline-block;\">\n",
       "                <div class=\"jupyter-widgets widget-label\" style=\"text-align: center;\">\n",
       "                    Figure\n",
       "                </div>\n",
       "                <img src='data:image/png;base64,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' width=1200.0/>\n",
       "            </div>\n",
       "        "
      ],
      "text/plain": [
       "Canvas(toolbar=Toolbar(toolitems=[('Home', 'Reset original view', 'home', 'home'), ('Back', 'Back to previous …"
      ]
     },
     "metadata": {},
     "output_type": "display_data"
    }
   ],
   "source": [
    "# 8. Using the object-oriented interface method, plot the resample DataFrame using the df.plot() function. \n",
    "\n",
    "\n",
    "fares_jan19_apr19.plot(figsize=(12,4));\n",
    "plt.xlabel(\"\");\n",
    "plt.ylabel(\"Fares ($USD)\");\n",
    "plt.title('Total Fare by City Type');\n",
    "#Import the style from Matplotlib.\n",
    "plt.show()\n",
    "\n"
   ]
  },
  {
   "cell_type": "code",
   "execution_count": 132,
   "metadata": {},
   "outputs": [],
   "source": [
    "plt.savefig(\"Analysis/Total_Fare_by_City_Type.png\")"
   ]
  },
  {
   "cell_type": "code",
   "execution_count": null,
   "metadata": {},
   "outputs": [],
   "source": []
  }
 ],
 "metadata": {
  "anaconda-cloud": {},
  "kernelspec": {
   "display_name": "PythonData",
   "language": "python",
   "name": "pythondata"
  },
  "language_info": {
   "codemirror_mode": {
    "name": "ipython",
    "version": 3
   },
   "file_extension": ".py",
   "mimetype": "text/x-python",
   "name": "python",
   "nbconvert_exporter": "python",
   "pygments_lexer": "ipython3",
   "version": "3.7.13"
  }
 },
 "nbformat": 4,
 "nbformat_minor": 4
}
