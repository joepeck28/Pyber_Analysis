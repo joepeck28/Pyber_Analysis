{
 "cells": [
  {
   "cell_type": "code",
   "execution_count": 1,
   "id": "a3d917b7-f033-4422-b290-e76c8e6a08dc",
   "metadata": {},
   "outputs": [],
   "source": [
    "#Start making magic!\n",
    "%matplotlib widget"
   ]
  },
  {
   "cell_type": "code",
   "execution_count": 2,
   "id": "9b602bb1-45a0-4863-b621-a22e0f44c0ec",
   "metadata": {},
   "outputs": [],
   "source": [
    "#Import Dependencies\n",
    "import matplotlib.pyplot as plt\n",
    "import pandas as pd\n",
    "import matplotlib as mpl"
   ]
  },
  {
   "cell_type": "code",
   "execution_count": 3,
   "id": "c1d6ccfd-b138-4747-966c-7fd0ba991230",
   "metadata": {},
   "outputs": [],
   "source": [
    "#Initial load in of the data\n",
    "city_data_to_load = \"Resources/city_data.csv\"\n",
    "ride_data_to_load = \"Resources/ride_data.csv\""
   ]
  },
  {
   "cell_type": "code",
   "execution_count": 4,
   "id": "c42c9272-9c6d-46f3-95e9-21f98316d0eb",
   "metadata": {},
   "outputs": [
    {
     "data": {
      "text/html": [
       "<div>\n",
       "<style scoped>\n",
       "    .dataframe tbody tr th:only-of-type {\n",
       "        vertical-align: middle;\n",
       "    }\n",
       "\n",
       "    .dataframe tbody tr th {\n",
       "        vertical-align: top;\n",
       "    }\n",
       "\n",
       "    .dataframe thead th {\n",
       "        text-align: right;\n",
       "    }\n",
       "</style>\n",
       "<table border=\"1\" class=\"dataframe\">\n",
       "  <thead>\n",
       "    <tr style=\"text-align: right;\">\n",
       "      <th></th>\n",
       "      <th>city</th>\n",
       "      <th>driver_count</th>\n",
       "      <th>type</th>\n",
       "    </tr>\n",
       "  </thead>\n",
       "  <tbody>\n",
       "    <tr>\n",
       "      <th>0</th>\n",
       "      <td>Richardfort</td>\n",
       "      <td>38</td>\n",
       "      <td>Urban</td>\n",
       "    </tr>\n",
       "    <tr>\n",
       "      <th>1</th>\n",
       "      <td>Williamsstad</td>\n",
       "      <td>59</td>\n",
       "      <td>Urban</td>\n",
       "    </tr>\n",
       "    <tr>\n",
       "      <th>2</th>\n",
       "      <td>Port Angela</td>\n",
       "      <td>67</td>\n",
       "      <td>Urban</td>\n",
       "    </tr>\n",
       "    <tr>\n",
       "      <th>3</th>\n",
       "      <td>Rodneyfort</td>\n",
       "      <td>34</td>\n",
       "      <td>Urban</td>\n",
       "    </tr>\n",
       "    <tr>\n",
       "      <th>4</th>\n",
       "      <td>West Robert</td>\n",
       "      <td>39</td>\n",
       "      <td>Urban</td>\n",
       "    </tr>\n",
       "  </tbody>\n",
       "</table>\n",
       "</div>"
      ],
      "text/plain": [
       "           city  driver_count   type\n",
       "0   Richardfort            38  Urban\n",
       "1  Williamsstad            59  Urban\n",
       "2   Port Angela            67  Urban\n",
       "3    Rodneyfort            34  Urban\n",
       "4   West Robert            39  Urban"
      ]
     },
     "execution_count": 4,
     "metadata": {},
     "output_type": "execute_result"
    }
   ],
   "source": [
    "#read city data and sore as a pandas df\n",
    "city_data_df = pd.read_csv(city_data_to_load)\n",
    "city_data_df.head()"
   ]
  },
  {
   "cell_type": "code",
   "execution_count": 5,
   "id": "fe1fb14e-fc37-4d33-bc1c-5181732acc86",
   "metadata": {},
   "outputs": [],
   "source": [
    "#read ride data and sore as a pandas df\n",
    "ride_data_df = pd.read_csv(ride_data_to_load)"
   ]
  },
  {
   "cell_type": "code",
   "execution_count": 6,
   "id": "563cea5d-f83b-4417-8846-6e58d064c8fe",
   "metadata": {},
   "outputs": [
    {
     "data": {
      "text/plain": [
       "city            120\n",
       "driver_count    120\n",
       "type            120\n",
       "dtype: int64"
      ]
     },
     "execution_count": 6,
     "metadata": {},
     "output_type": "execute_result"
    }
   ],
   "source": [
    "#columns and rows that are not null\n",
    "city_data_df.count()"
   ]
  },
  {
   "cell_type": "code",
   "execution_count": 7,
   "id": "56268dd0-495d-4c65-bd8a-cab13c88414d",
   "metadata": {},
   "outputs": [
    {
     "data": {
      "text/plain": [
       "city            0\n",
       "driver_count    0\n",
       "type            0\n",
       "dtype: int64"
      ]
     },
     "execution_count": 7,
     "metadata": {},
     "output_type": "execute_result"
    }
   ],
   "source": [
    "#count any null columns and rows\n",
    "city_data_df.isnull().sum()"
   ]
  },
  {
   "cell_type": "code",
   "execution_count": 8,
   "id": "8550d49b-8233-4743-a122-31c95ca9e8db",
   "metadata": {},
   "outputs": [
    {
     "data": {
      "text/plain": [
       "city            object\n",
       "driver_count     int64\n",
       "type            object\n",
       "dtype: object"
      ]
     },
     "execution_count": 8,
     "metadata": {},
     "output_type": "execute_result"
    }
   ],
   "source": [
    "#get the datatypes\n",
    "city_data_df.dtypes"
   ]
  },
  {
   "cell_type": "code",
   "execution_count": 9,
   "id": "a900db0a-2417-44b9-b9c5-8265f258ec64",
   "metadata": {},
   "outputs": [
    {
     "data": {
      "text/plain": [
       "array(['Urban', 'Suburban', 'Rural'], dtype=object)"
      ]
     },
     "execution_count": 9,
     "metadata": {},
     "output_type": "execute_result"
    }
   ],
   "source": [
    "city_data_df[\"type\"].unique()"
   ]
  },
  {
   "cell_type": "code",
   "execution_count": 10,
   "id": "a5ac8bd9-cd3f-4575-a211-6ad509b4f06a",
   "metadata": {},
   "outputs": [
    {
     "data": {
      "text/plain": [
       "66"
      ]
     },
     "execution_count": 10,
     "metadata": {},
     "output_type": "execute_result"
    }
   ],
   "source": [
    "sum(city_data_df['type']=='Urban')"
   ]
  },
  {
   "cell_type": "code",
   "execution_count": 11,
   "id": "9d050eaf-3fc7-4bc4-8496-925db8a8cb16",
   "metadata": {},
   "outputs": [
    {
     "data": {
      "text/plain": [
       "36"
      ]
     },
     "execution_count": 11,
     "metadata": {},
     "output_type": "execute_result"
    }
   ],
   "source": [
    "sum(city_data_df['type']=='Suburban')"
   ]
  },
  {
   "cell_type": "code",
   "execution_count": 12,
   "id": "7477aeac-ed9b-4f00-bc6f-70d6b320d703",
   "metadata": {},
   "outputs": [
    {
     "data": {
      "text/plain": [
       "18"
      ]
     },
     "execution_count": 12,
     "metadata": {},
     "output_type": "execute_result"
    }
   ],
   "source": [
    "sum(city_data_df['type']=='Rural')"
   ]
  },
  {
   "cell_type": "code",
   "execution_count": 13,
   "id": "764c4760-908e-465b-885c-1e7daa9eff33",
   "metadata": {},
   "outputs": [
    {
     "data": {
      "text/plain": [
       "city       2375\n",
       "date       2375\n",
       "fare       2375\n",
       "ride_id    2375\n",
       "dtype: int64"
      ]
     },
     "execution_count": 13,
     "metadata": {},
     "output_type": "execute_result"
    }
   ],
   "source": [
    "#count ride data df rows\n",
    "ride_data_df.count()"
   ]
  },
  {
   "cell_type": "code",
   "execution_count": 14,
   "id": "0137aa7d-416c-463e-9912-b995cec91419",
   "metadata": {},
   "outputs": [
    {
     "data": {
      "text/plain": [
       "city       0\n",
       "date       0\n",
       "fare       0\n",
       "ride_id    0\n",
       "dtype: int64"
      ]
     },
     "execution_count": 14,
     "metadata": {},
     "output_type": "execute_result"
    }
   ],
   "source": [
    "ride_data_df.isnull().sum()"
   ]
  },
  {
   "cell_type": "code",
   "execution_count": 15,
   "id": "216446f4-7421-45a1-9c81-e2a779a97e18",
   "metadata": {},
   "outputs": [],
   "source": [
    "#LOOKS GOOD!"
   ]
  },
  {
   "cell_type": "code",
   "execution_count": 16,
   "id": "3e0a8e08-e4cb-444b-95d2-98176fe74b3e",
   "metadata": {},
   "outputs": [
    {
     "data": {
      "text/plain": [
       "city        object\n",
       "date        object\n",
       "fare       float64\n",
       "ride_id      int64\n",
       "dtype: object"
      ]
     },
     "execution_count": 16,
     "metadata": {},
     "output_type": "execute_result"
    }
   ],
   "source": [
    "ride_data_df.dtypes"
   ]
  },
  {
   "cell_type": "code",
   "execution_count": 17,
   "id": "bc509000-f3bd-4e23-afe1-067ac9a9d7fa",
   "metadata": {},
   "outputs": [
    {
     "data": {
      "text/html": [
       "<div>\n",
       "<style scoped>\n",
       "    .dataframe tbody tr th:only-of-type {\n",
       "        vertical-align: middle;\n",
       "    }\n",
       "\n",
       "    .dataframe tbody tr th {\n",
       "        vertical-align: top;\n",
       "    }\n",
       "\n",
       "    .dataframe thead th {\n",
       "        text-align: right;\n",
       "    }\n",
       "</style>\n",
       "<table border=\"1\" class=\"dataframe\">\n",
       "  <thead>\n",
       "    <tr style=\"text-align: right;\">\n",
       "      <th></th>\n",
       "      <th>city</th>\n",
       "      <th>date</th>\n",
       "      <th>fare</th>\n",
       "      <th>ride_id</th>\n",
       "      <th>driver_count</th>\n",
       "      <th>type</th>\n",
       "    </tr>\n",
       "  </thead>\n",
       "  <tbody>\n",
       "    <tr>\n",
       "      <th>0</th>\n",
       "      <td>Lake Jonathanshire</td>\n",
       "      <td>2019-01-14 10:14:22</td>\n",
       "      <td>13.83</td>\n",
       "      <td>5739410935873</td>\n",
       "      <td>5</td>\n",
       "      <td>Urban</td>\n",
       "    </tr>\n",
       "    <tr>\n",
       "      <th>1</th>\n",
       "      <td>South Michelleport</td>\n",
       "      <td>2019-03-04 18:24:09</td>\n",
       "      <td>30.24</td>\n",
       "      <td>2343912425577</td>\n",
       "      <td>72</td>\n",
       "      <td>Urban</td>\n",
       "    </tr>\n",
       "    <tr>\n",
       "      <th>2</th>\n",
       "      <td>Port Samanthamouth</td>\n",
       "      <td>2019-02-24 04:29:00</td>\n",
       "      <td>33.44</td>\n",
       "      <td>2005065760003</td>\n",
       "      <td>57</td>\n",
       "      <td>Urban</td>\n",
       "    </tr>\n",
       "    <tr>\n",
       "      <th>3</th>\n",
       "      <td>Rodneyfort</td>\n",
       "      <td>2019-02-10 23:22:03</td>\n",
       "      <td>23.44</td>\n",
       "      <td>5149245426178</td>\n",
       "      <td>34</td>\n",
       "      <td>Urban</td>\n",
       "    </tr>\n",
       "    <tr>\n",
       "      <th>4</th>\n",
       "      <td>South Jack</td>\n",
       "      <td>2019-03-06 04:28:35</td>\n",
       "      <td>34.58</td>\n",
       "      <td>3908451377344</td>\n",
       "      <td>46</td>\n",
       "      <td>Urban</td>\n",
       "    </tr>\n",
       "  </tbody>\n",
       "</table>\n",
       "</div>"
      ],
      "text/plain": [
       "                 city                 date   fare        ride_id  \\\n",
       "0  Lake Jonathanshire  2019-01-14 10:14:22  13.83  5739410935873   \n",
       "1  South Michelleport  2019-03-04 18:24:09  30.24  2343912425577   \n",
       "2  Port Samanthamouth  2019-02-24 04:29:00  33.44  2005065760003   \n",
       "3          Rodneyfort  2019-02-10 23:22:03  23.44  5149245426178   \n",
       "4          South Jack  2019-03-06 04:28:35  34.58  3908451377344   \n",
       "\n",
       "   driver_count   type  \n",
       "0             5  Urban  \n",
       "1            72  Urban  \n",
       "2            57  Urban  \n",
       "3            34  Urban  \n",
       "4            46  Urban  "
      ]
     },
     "execution_count": 17,
     "metadata": {},
     "output_type": "execute_result"
    }
   ],
   "source": [
    "#Merge the dfs into one\n",
    "#We can use the common value of 'city'\n",
    "#This will take the 'city data' and apply it acorss the 'ride data'\n",
    "pyber_data_df =pd.merge(ride_data_df, city_data_df, how='left', on=['city','city'])\n",
    "pyber_data_df.head()"
   ]
  },
  {
   "cell_type": "code",
   "execution_count": 18,
   "id": "73c91790-3f58-4641-988c-9d2704e8147b",
   "metadata": {},
   "outputs": [
    {
     "data": {
      "text/html": [
       "<div>\n",
       "<style scoped>\n",
       "    .dataframe tbody tr th:only-of-type {\n",
       "        vertical-align: middle;\n",
       "    }\n",
       "\n",
       "    .dataframe tbody tr th {\n",
       "        vertical-align: top;\n",
       "    }\n",
       "\n",
       "    .dataframe thead th {\n",
       "        text-align: right;\n",
       "    }\n",
       "</style>\n",
       "<table border=\"1\" class=\"dataframe\">\n",
       "  <thead>\n",
       "    <tr style=\"text-align: right;\">\n",
       "      <th></th>\n",
       "      <th>city</th>\n",
       "      <th>date</th>\n",
       "      <th>fare</th>\n",
       "      <th>ride_id</th>\n",
       "      <th>driver_count</th>\n",
       "      <th>type</th>\n",
       "    </tr>\n",
       "  </thead>\n",
       "  <tbody>\n",
       "    <tr>\n",
       "      <th>2370</th>\n",
       "      <td>Michaelberg</td>\n",
       "      <td>2019-04-29 17:04:39</td>\n",
       "      <td>13.38</td>\n",
       "      <td>8550365057598</td>\n",
       "      <td>6</td>\n",
       "      <td>Rural</td>\n",
       "    </tr>\n",
       "    <tr>\n",
       "      <th>2371</th>\n",
       "      <td>Lake Latoyabury</td>\n",
       "      <td>2019-01-30 00:05:47</td>\n",
       "      <td>20.76</td>\n",
       "      <td>9018727594352</td>\n",
       "      <td>2</td>\n",
       "      <td>Rural</td>\n",
       "    </tr>\n",
       "    <tr>\n",
       "      <th>2372</th>\n",
       "      <td>North Jaime</td>\n",
       "      <td>2019-02-10 21:03:50</td>\n",
       "      <td>11.11</td>\n",
       "      <td>2781339863778</td>\n",
       "      <td>1</td>\n",
       "      <td>Rural</td>\n",
       "    </tr>\n",
       "    <tr>\n",
       "      <th>2373</th>\n",
       "      <td>West Heather</td>\n",
       "      <td>2019-05-07 19:22:15</td>\n",
       "      <td>44.94</td>\n",
       "      <td>4256853490277</td>\n",
       "      <td>4</td>\n",
       "      <td>Rural</td>\n",
       "    </tr>\n",
       "    <tr>\n",
       "      <th>2374</th>\n",
       "      <td>Newtonview</td>\n",
       "      <td>2019-04-25 10:20:13</td>\n",
       "      <td>55.84</td>\n",
       "      <td>9990581345298</td>\n",
       "      <td>1</td>\n",
       "      <td>Rural</td>\n",
       "    </tr>\n",
       "  </tbody>\n",
       "</table>\n",
       "</div>"
      ],
      "text/plain": [
       "                 city                 date   fare        ride_id  \\\n",
       "2370      Michaelberg  2019-04-29 17:04:39  13.38  8550365057598   \n",
       "2371  Lake Latoyabury  2019-01-30 00:05:47  20.76  9018727594352   \n",
       "2372      North Jaime  2019-02-10 21:03:50  11.11  2781339863778   \n",
       "2373     West Heather  2019-05-07 19:22:15  44.94  4256853490277   \n",
       "2374       Newtonview  2019-04-25 10:20:13  55.84  9990581345298   \n",
       "\n",
       "      driver_count   type  \n",
       "2370             6  Rural  \n",
       "2371             2  Rural  \n",
       "2372             1  Rural  \n",
       "2373             4  Rural  \n",
       "2374             1  Rural  "
      ]
     },
     "execution_count": 18,
     "metadata": {},
     "output_type": "execute_result"
    }
   ],
   "source": [
    "pyber_data_df.tail()"
   ]
  },
  {
   "cell_type": "code",
   "execution_count": 19,
   "id": "97a08c82-e2bb-41af-bd45-387d535186cd",
   "metadata": {},
   "outputs": [],
   "source": [
    "#Create data frames for each city type\n",
    "urban_cities_df = pyber_data_df[pyber_data_df[\"type\"] == \"Urban\"]\n",
    "suburban_cities_df = pyber_data_df[pyber_data_df[\"type\"] == \"Suburban\"]\n",
    "rural_cities_df = pyber_data_df[pyber_data_df[\"type\"] == \"Rural\"]"
   ]
  },
  {
   "cell_type": "code",
   "execution_count": 20,
   "id": "9afc8986-07e5-4fd5-8dde-766f6f6209d5",
   "metadata": {},
   "outputs": [
    {
     "data": {
      "text/html": [
       "<div>\n",
       "<style scoped>\n",
       "    .dataframe tbody tr th:only-of-type {\n",
       "        vertical-align: middle;\n",
       "    }\n",
       "\n",
       "    .dataframe tbody tr th {\n",
       "        vertical-align: top;\n",
       "    }\n",
       "\n",
       "    .dataframe thead th {\n",
       "        text-align: right;\n",
       "    }\n",
       "</style>\n",
       "<table border=\"1\" class=\"dataframe\">\n",
       "  <thead>\n",
       "    <tr style=\"text-align: right;\">\n",
       "      <th></th>\n",
       "      <th>city</th>\n",
       "      <th>date</th>\n",
       "      <th>fare</th>\n",
       "      <th>ride_id</th>\n",
       "      <th>driver_count</th>\n",
       "      <th>type</th>\n",
       "    </tr>\n",
       "  </thead>\n",
       "  <tbody>\n",
       "    <tr>\n",
       "      <th>2250</th>\n",
       "      <td>Randallchester</td>\n",
       "      <td>2019-04-13 11:13:31</td>\n",
       "      <td>43.22</td>\n",
       "      <td>1076079536213</td>\n",
       "      <td>9</td>\n",
       "      <td>Rural</td>\n",
       "    </tr>\n",
       "    <tr>\n",
       "      <th>2251</th>\n",
       "      <td>North Holly</td>\n",
       "      <td>2019-02-02 14:54:00</td>\n",
       "      <td>12.42</td>\n",
       "      <td>1985256326182</td>\n",
       "      <td>8</td>\n",
       "      <td>Rural</td>\n",
       "    </tr>\n",
       "    <tr>\n",
       "      <th>2252</th>\n",
       "      <td>Michaelberg</td>\n",
       "      <td>2019-03-27 18:27:34</td>\n",
       "      <td>54.85</td>\n",
       "      <td>4421836952718</td>\n",
       "      <td>6</td>\n",
       "      <td>Rural</td>\n",
       "    </tr>\n",
       "    <tr>\n",
       "      <th>2253</th>\n",
       "      <td>Lake Latoyabury</td>\n",
       "      <td>2019-02-23 21:12:24</td>\n",
       "      <td>47.90</td>\n",
       "      <td>3269652929887</td>\n",
       "      <td>2</td>\n",
       "      <td>Rural</td>\n",
       "    </tr>\n",
       "    <tr>\n",
       "      <th>2254</th>\n",
       "      <td>Lake Latoyabury</td>\n",
       "      <td>2019-05-06 08:57:56</td>\n",
       "      <td>51.80</td>\n",
       "      <td>4018025271936</td>\n",
       "      <td>2</td>\n",
       "      <td>Rural</td>\n",
       "    </tr>\n",
       "  </tbody>\n",
       "</table>\n",
       "</div>"
      ],
      "text/plain": [
       "                 city                 date   fare        ride_id  \\\n",
       "2250   Randallchester  2019-04-13 11:13:31  43.22  1076079536213   \n",
       "2251      North Holly  2019-02-02 14:54:00  12.42  1985256326182   \n",
       "2252      Michaelberg  2019-03-27 18:27:34  54.85  4421836952718   \n",
       "2253  Lake Latoyabury  2019-02-23 21:12:24  47.90  3269652929887   \n",
       "2254  Lake Latoyabury  2019-05-06 08:57:56  51.80  4018025271936   \n",
       "\n",
       "      driver_count   type  \n",
       "2250             9  Rural  \n",
       "2251             8  Rural  \n",
       "2252             6  Rural  \n",
       "2253             2  Rural  \n",
       "2254             2  Rural  "
      ]
     },
     "execution_count": 20,
     "metadata": {},
     "output_type": "execute_result"
    }
   ],
   "source": [
    "rural_cities_df.head()"
   ]
  },
  {
   "cell_type": "code",
   "execution_count": 21,
   "id": "19ca9b6e-437d-40a1-9dad-3ce9adb55f70",
   "metadata": {},
   "outputs": [
    {
     "data": {
      "text/plain": [
       "city\n",
       "Amandaburgh        18\n",
       "Barajasview        22\n",
       "Carriemouth        27\n",
       "Christopherfurt    27\n",
       "Deanville          19\n",
       "Name: ride_id, dtype: int64"
      ]
     },
     "execution_count": 21,
     "metadata": {},
     "output_type": "execute_result"
    }
   ],
   "source": [
    "# Ride count for each city type\n",
    "urban_ride_count = urban_cities_df.groupby([\"city\"]).count()[\"ride_id\"]\n",
    "urban_ride_count.head()"
   ]
  },
  {
   "cell_type": "code",
   "execution_count": 22,
   "id": "e25d3166-7703-4e1b-9b1d-dce0df34c0ea",
   "metadata": {},
   "outputs": [],
   "source": [
    "suburban_ride_count = suburban_cities_df.groupby([\"city\"]).count()[\"ride_id\"]\n",
    "rural_ride_count = rural_cities_df.groupby([\"city\"]).count()[\"ride_id\"]"
   ]
  },
  {
   "cell_type": "code",
   "execution_count": 23,
   "id": "cae89098-82cd-4af3-81e9-23789fdb0188",
   "metadata": {},
   "outputs": [],
   "source": [
    "#Get the average fare by city types\n",
    "urban_avg_fare = urban_cities_df.groupby([\"city\"]).mean()[\"fare\"]\n",
    "suburban_avg_fare = suburban_cities_df.groupby([\"city\"]).mean()[\"fare\"]\n",
    "rural_avg_fare = rural_cities_df.groupby([\"city\"]).mean()[\"fare\"]"
   ]
  },
  {
   "cell_type": "code",
   "execution_count": 24,
   "id": "6291dd5f-acd0-4872-81ed-85ab7c31dc33",
   "metadata": {},
   "outputs": [],
   "source": [
    "#Get the average driver count by city type\n",
    "urban_driver_count = urban_cities_df.groupby([\"city\"]).mean()[\"driver_count\"]\n",
    "suburban_driver_count = suburban_cities_df.groupby([\"city\"]).mean()[\"driver_count\"]\n",
    "rural_driver_count = rural_cities_df.groupby([\"city\"]).mean()[\"driver_count\"]"
   ]
  },
  {
   "cell_type": "code",
   "execution_count": null,
   "id": "3f660165-e83d-4420-abd8-d427dcc6e7ec",
   "metadata": {},
   "outputs": [],
   "source": [
    "urban_driver_count.head()"
   ]
  },
  {
   "cell_type": "code",
   "execution_count": null,
   "id": "e0913bb1-1d7b-45af-8dee-44e86770d6a8",
   "metadata": {},
   "outputs": [],
   "source": [
    "plt.scatter(urban_ride_count, \n",
    "            urban_avg_fare,\n",
    "            s=10*urban_driver_count, c=\"coral\",\n",
    "            edgecolor=\"black\", linewidths=1,\n",
    "            alpha=0.8, label=\"Urban\")\n",
    "plt.title(\"PyBer Ride Sharing Data (2019)\")\n",
    "plt.ylabel(\"Average Fare ($)\")\n",
    "plt.xlabel(\"Total Number if Rides (Per City)\")\n",
    "plt.grid(True)\n",
    "plt.legend()\n",
    "plt.show()"
   ]
  },
  {
   "cell_type": "code",
   "execution_count": null,
   "id": "14c3378f-c903-428a-b064-eee171868ad1",
   "metadata": {},
   "outputs": [],
   "source": [
    "plt.scatter(suburban_ride_count, \n",
    "            suburban_avg_fare,\n",
    "            s=10*suburban_driver_count, c=\"skyblue\",\n",
    "            edgecolor=\"black\", linewidths=1,\n",
    "            alpha=0.8, label=\"Suburban\")\n",
    "plt.title(\"PyBer Ride Sharing Data (2019)\")\n",
    "plt.ylabel(\"Average Fare ($)\")\n",
    "plt.xlabel(\"Total Number if Rides (Per City)\")\n",
    "plt.grid(True)\n",
    "plt.legend()\n",
    "plt.show()"
   ]
  },
  {
   "cell_type": "code",
   "execution_count": null,
   "id": "f04af7a7-a66b-4ae2-b3fc-1e4ba37d5a66",
   "metadata": {},
   "outputs": [],
   "source": [
    "plt.subplots(figsize=(12,6))\n",
    "plt.scatter(urban_ride_count, \n",
    "            urban_avg_fare,\n",
    "            s=10*urban_driver_count, c=\"coral\",\n",
    "            edgecolor=\"black\", linewidths=1,\n",
    "            alpha=0.8, label=\"Urban\")\n",
    "\n",
    "\n",
    "plt.scatter(suburban_ride_count, \n",
    "            suburban_avg_fare,\n",
    "            s=10*suburban_driver_count, c=\"skyblue\",\n",
    "            edgecolor=\"black\", linewidths=1,\n",
    "            alpha=0.8, label=\"Suburban\")\n",
    "\n",
    "\n",
    "plt.scatter(rural_ride_count, \n",
    "            rural_avg_fare,\n",
    "            s=10*rural_driver_count, c=\"gold\",\n",
    "            edgecolor=\"black\", linewidths=1,\n",
    "            alpha=0.8, label=\"Rural\")\n",
    "\n",
    "plt.title(\"PyBer Ride Sharing Data (2019)\", fontsize=20)\n",
    "plt.ylabel(\"Average Fare ($)\",fontsize=12)\n",
    "plt.xlabel(\"Total Number of Rides (Per City)\",fontsize=12)\n",
    "plt.grid(True)\n",
    "plt.legend()\n",
    "lgnd= plt.legend(fontsize=\"12\", mode=\"Expanded\",\n",
    "                 scatterpoints=1, loc='best', title=\"City Types\")\n",
    "lgnd.legendHandles[0]._sizes = [75]\n",
    "lgnd.legendHandles[1]._sizes = [75]\n",
    "lgnd.legendHandles[2]._sizes = [75]\n",
    "plt.text(42, 35, \"Note: Circle size correlates with driver count per city.\", fontsize=\"12\", wrap=True)\n",
    "plt.show()"
   ]
  },
  {
   "cell_type": "code",
   "execution_count": null,
   "id": "96de34c8-6b18-4cf3-b5e2-cccac859811c",
   "metadata": {},
   "outputs": [],
   "source": [
    "plt.savefig(\"Analysis/fig1.png\")"
   ]
  },
  {
   "cell_type": "code",
   "execution_count": null,
   "id": "38322b42-017d-449a-8563-b8dd36c56558",
   "metadata": {},
   "outputs": [],
   "source": [
    "# Get Summary Statistics\n",
    "urban_cities_df.describe()"
   ]
  },
  {
   "cell_type": "code",
   "execution_count": null,
   "id": "f2839f57-1ad1-4d5b-9b1b-f57346ac96c7",
   "metadata": {},
   "outputs": [],
   "source": [
    "suburban_cities_df.describe()"
   ]
  },
  {
   "cell_type": "code",
   "execution_count": null,
   "id": "69f0ed34-630a-49f3-ac18-04856e71a4a1",
   "metadata": {},
   "outputs": [],
   "source": [
    "rural_cities_df.describe()"
   ]
  },
  {
   "cell_type": "code",
   "execution_count": null,
   "id": "8df05f40-57ec-4d2f-8232-bba0949459e5",
   "metadata": {},
   "outputs": [],
   "source": [
    "urban_ride_count.describe()"
   ]
  },
  {
   "cell_type": "code",
   "execution_count": null,
   "id": "f223150a-25df-4bc7-b9f3-9b6177bda1fb",
   "metadata": {},
   "outputs": [],
   "source": [
    "suburban_ride_count.describe()"
   ]
  },
  {
   "cell_type": "code",
   "execution_count": null,
   "id": "9692d93d-70ac-4eda-946b-701f16de9a84",
   "metadata": {},
   "outputs": [],
   "source": [
    "rural_ride_count.describe()"
   ]
  },
  {
   "cell_type": "code",
   "execution_count": null,
   "id": "5ccbdb5c-6e6e-4a80-bb58-6211ed96392b",
   "metadata": {},
   "outputs": [],
   "source": [
    "round(urban_ride_count.mean(), 2), round(suburban_ride_count.mean(), 2), round(rural_ride_count.mean(), 2)"
   ]
  },
  {
   "cell_type": "code",
   "execution_count": null,
   "id": "87d5a8d1-94d4-41c9-8ab5-70579336c39b",
   "metadata": {},
   "outputs": [],
   "source": [
    "urban_ride_count.median()"
   ]
  },
  {
   "cell_type": "code",
   "execution_count": null,
   "id": "d226cb85-6bd2-41d4-9a30-895e42f6a46b",
   "metadata": {},
   "outputs": [],
   "source": [
    "urban_ride_count.mode()"
   ]
  },
  {
   "cell_type": "code",
   "execution_count": null,
   "id": "5a81620d-8b59-45f9-bd2b-427f1dab179b",
   "metadata": {},
   "outputs": [],
   "source": [
    "suburban_ride_count.mode()"
   ]
  },
  {
   "cell_type": "code",
   "execution_count": null,
   "id": "864f7384-cbc6-4319-87f7-73c47d9e7cbb",
   "metadata": {},
   "outputs": [],
   "source": [
    "import numpy as np\n",
    "import scipy.stats as sts"
   ]
  },
  {
   "cell_type": "code",
   "execution_count": null,
   "id": "045a30be-30b7-47ad-a0cc-6c11d9a12daf",
   "metadata": {},
   "outputs": [],
   "source": [
    "# Calculate the measures of central tendency for the ride count for the urban cities.\n",
    "mean_urban_ride_count = np.mean(urban_ride_count)\n",
    "print(f\"The mean for the ride counts for urban trips is {mean_urban_ride_count:.2f}.\")\n",
    "\n",
    "median_urban_ride_count = np.median(urban_ride_count)\n",
    "print(f\"The median for the ride counts for urban trips is {median_urban_ride_count}.\")\n",
    "\n",
    "mode_urban_ride_count = sts.mode(urban_ride_count)\n",
    "print(f\"The mode for the ride counts for urban trips is {mode_urban_ride_count}.\")"
   ]
  },
  {
   "cell_type": "code",
   "execution_count": null,
   "id": "3090fc51-6e25-42c8-a924-be2af7875e28",
   "metadata": {},
   "outputs": [],
   "source": [
    "sts.mode(suburban_ride_count)"
   ]
  },
  {
   "cell_type": "code",
   "execution_count": null,
   "id": "9ffc93cd-053f-430c-81fd-a0cdf77c3ca5",
   "metadata": {},
   "outputs": [],
   "source": [
    "sts.mode(rural_ride_count)"
   ]
  },
  {
   "cell_type": "code",
   "execution_count": null,
   "id": "c3ee04a2-b320-4a5d-8921-cfffd3f86f38",
   "metadata": {},
   "outputs": [],
   "source": [
    "urban_fares = urban_cities_df[\"fare\"]\n",
    "urban_fares.head()"
   ]
  },
  {
   "cell_type": "code",
   "execution_count": null,
   "id": "ca427303-0984-4fde-9abb-e391d4c9d597",
   "metadata": {},
   "outputs": [],
   "source": [
    "urban_fares.describe()"
   ]
  },
  {
   "cell_type": "code",
   "execution_count": null,
   "id": "9e0bdaf9-3393-4f12-b8f6-7c32e6e5978a",
   "metadata": {},
   "outputs": [],
   "source": [
    "mean_urban_fares = np.mean(urban_fares)\n",
    "print(f\"The mean fare price for urban trips is ${mean_urban_fares:.2f}.\")\n",
    "\n",
    "median_urban_fares = np.median(urban_fares)\n",
    "print(f\"The median fare price for urban trips is ${median_urban_fares:.2f}.\")\n",
    "\n",
    "mode_urban_fares = sts.mode(urban_fares)\n",
    "print(f\"The mode fare price for urban trips is {mode_urban_fares}.\")"
   ]
  },
  {
   "cell_type": "code",
   "execution_count": null,
   "id": "da54c721-2ca4-4680-90a2-924adfac46ea",
   "metadata": {},
   "outputs": [],
   "source": [
    "mean_urban_fares = np.mean(urban_fares) \n",
    "suburban_fares = suburban_cities_df[\"fare\"]\n",
    "mean_suburban_fares = np.mean(suburban_fares) \n",
    "rural_fares = rural_cities_df[\"fare\"]\n",
    "mean_rural_fares = np.mean(rural_fares)"
   ]
  },
  {
   "cell_type": "code",
   "execution_count": null,
   "id": "adc0f188-2aec-4c7f-8bed-95acfe2e8059",
   "metadata": {},
   "outputs": [],
   "source": [
    "mean_urban_fares, mean_suburban_fares, mean_rural_fares"
   ]
  },
  {
   "cell_type": "code",
   "execution_count": null,
   "id": "cb7a826f-a7d4-498d-887c-de4d573c74e9",
   "metadata": {},
   "outputs": [],
   "source": [
    "urban_drivers = urban_cities_df['driver_count']\n",
    "suburban_drivers = suburban_cities_df['driver_count']\n",
    "rural_drivers = rural_cities_df['driver_count']\n",
    "urban_drivers.mean(), suburban_drivers.mean(), rural_drivers.mean()"
   ]
  },
  {
   "cell_type": "code",
   "execution_count": null,
   "id": "6fb4e944-c19f-41a3-88d2-338349585b22",
   "metadata": {},
   "outputs": [],
   "source": [
    "#Create a box and whisker plot for the urban cities ride count.\n",
    "x_labels= ['Urban']\n",
    "fix, ax = plt.subplots()\n",
    "ax.boxplot(urban_ride_count, labels=x_labels)\n",
    "\n",
    "ax.set_title(\"Ride Count Data (2019)\")\n",
    "ax.set_ylabel('Number of Rides')\n",
    "ax.set_yticks(np.arange(10, 41, step=2.0))\n",
    "ax.grid()"
   ]
  },
  {
   "cell_type": "code",
   "execution_count": null,
   "id": "0b40d0b5-6726-4cc6-b590-62eb70ebc0f7",
   "metadata": {},
   "outputs": [],
   "source": [
    "plt.savefig(\"Analysis/Urban_ride_count.png\")"
   ]
  },
  {
   "cell_type": "code",
   "execution_count": null,
   "id": "62982a21-1bc9-423b-a0a0-698a4895d44a",
   "metadata": {},
   "outputs": [],
   "source": [
    "#min       9.000000\n",
    "#max      27.000000\n",
    "\n",
    "x_labels= ['Suburban']\n",
    "fix, ax = plt.subplots()\n",
    "ax.boxplot(suburban_ride_count, labels=x_labels)\n",
    "\n",
    "ax.set_title(\"Ride Count Data (2019)\")\n",
    "ax.set_ylabel('Number of Rides')\n",
    "ax.set_yticks(np.arange(8, 29, step=2.0))\n",
    "ax.grid()"
   ]
  },
  {
   "cell_type": "code",
   "execution_count": null,
   "id": "575b44ea-7126-4c81-b91f-8a615e233c25",
   "metadata": {},
   "outputs": [],
   "source": [
    "plt.savefig(\"Analysis/suburban_ride_count.png\")"
   ]
  },
  {
   "cell_type": "code",
   "execution_count": null,
   "id": "4b1ed1bb-7046-48c6-b704-0691cef46fc1",
   "metadata": {},
   "outputs": [],
   "source": [
    "#min       3.000000\n",
    "#max      12.000000\n",
    "\n",
    "x_labels= ['Rural']\n",
    "fix, ax = plt.subplots()\n",
    "ax.boxplot(rural_ride_count, labels=x_labels)\n",
    "\n",
    "ax.set_title(\"Ride Count Data (2019)\")\n",
    "ax.set_ylabel('Number of Rides')\n",
    "ax.set_yticks(np.arange(2, 14, step=2.0))\n",
    "ax.grid()"
   ]
  },
  {
   "cell_type": "code",
   "execution_count": null,
   "id": "f51cc130-f5ee-460b-8844-e6f5c4b3ab3b",
   "metadata": {},
   "outputs": [],
   "source": [
    "plt.savefig(\"Analysis/rural_ride_count.png\")"
   ]
  },
  {
   "cell_type": "code",
   "execution_count": null,
   "id": "b53fabc7-688d-4681-b97d-33b4e43b55b3",
   "metadata": {},
   "outputs": [],
   "source": [
    "#Combine the three sets of ride count data\n",
    "x_labels = [\"Urban\", \"Suburban\",\"Rural\"]\n",
    "ride_count_data = [urban_ride_count, suburban_ride_count, rural_ride_count]\n",
    "fig, ax = plt.subplots(figsize=(10, 6))\n",
    "ax.set_title('Ride Count Data (2019)',fontsize=20)\n",
    "ax.set_ylabel('Number of Rides',fontsize=14)\n",
    "ax.set_xlabel(\"City Types\",fontsize=14)\n",
    "ax.boxplot(ride_count_data, labels=x_labels)\n",
    "ax.set_yticks(np.arange(0, 45, step=3.0))\n",
    "ax.grid()"
   ]
  },
  {
   "cell_type": "code",
   "execution_count": null,
   "id": "bd675f35-3934-41c9-94fc-1b87df97a079",
   "metadata": {},
   "outputs": [],
   "source": [
    "plt.savefig(\"analysis/Fig2.png\")"
   ]
  },
  {
   "cell_type": "code",
   "execution_count": null,
   "id": "27b7e142-86de-4481-9d88-4006ef3afdc5",
   "metadata": {},
   "outputs": [],
   "source": [
    "# Get the city that matches 39.\n",
    "urban_city_outlier = urban_ride_count[urban_ride_count==39].index[0]\n",
    "print(f\"{urban_city_outlier} has the highest rider count.\")"
   ]
  },
  {
   "cell_type": "code",
   "execution_count": null,
   "id": "83b1b612-19eb-436b-8f72-67ad0ffee7cf",
   "metadata": {},
   "outputs": [],
   "source": [
    "x_labels = [\"Urban\", \"Suburban\",\"Rural\"]\n",
    "ride_count_data = [urban_fares, suburban_fares, rural_fares]\n",
    "fig, ax = plt.subplots(figsize=(10, 6))\n",
    "ax.set_title('Ride Fare Data (2019)',fontsize=20)\n",
    "ax.set_ylabel('Fares ($USD)',fontsize=14)\n",
    "ax.set_xlabel(\"City Types\",fontsize=14)\n",
    "ax.boxplot(ride_count_data, labels=x_labels)\n",
    "ax.set_yticks(np.arange(0, 61, step=5.0))\n",
    "ax.grid()"
   ]
  },
  {
   "cell_type": "code",
   "execution_count": null,
   "id": "53f43de0-589b-4eec-b4f4-14b198edda10",
   "metadata": {},
   "outputs": [],
   "source": [
    "plt.savefig(\"analysis/Fig3.png\")"
   ]
  },
  {
   "cell_type": "code",
   "execution_count": null,
   "id": "1c00adf8-7322-4484-bb04-2530717c88d7",
   "metadata": {},
   "outputs": [],
   "source": [
    "x_labels = [\"Urban\", \"Suburban\",\"Rural\"]\n",
    "ride_count_data = [urban_driver_count, suburban_driver_count, rural_driver_count]\n",
    "fig, ax = plt.subplots(figsize=(10, 6))\n",
    "ax.set_title('Driver Count Data (2019)',fontsize=20)\n",
    "ax.set_ylabel('Number of Drivers',fontsize=14)\n",
    "ax.set_xlabel(\"City Types\",fontsize=14)\n",
    "ax.boxplot(ride_count_data, labels=x_labels)\n",
    "ax.set_yticks(np.arange(0, 76, step=5.0))\n",
    "ax.grid()"
   ]
  },
  {
   "cell_type": "code",
   "execution_count": null,
   "id": "dd3e2f5a-f520-4566-9d89-7b3467f69f5c",
   "metadata": {},
   "outputs": [],
   "source": [
    "plt.savefig(\"analysis/Fig4.png\")"
   ]
  },
  {
   "cell_type": "code",
   "execution_count": null,
   "id": "491bdce2-b662-4cfb-94b5-79667302b769",
   "metadata": {},
   "outputs": [],
   "source": [
    "sum_fares_by_type = pyber_data_df.groupby([\"type\"]).sum()[\"fare\"]\n",
    "sum_fares_by_type"
   ]
  },
  {
   "cell_type": "code",
   "execution_count": null,
   "id": "62b1af9f-534d-473b-82fd-488b15f34475",
   "metadata": {},
   "outputs": [],
   "source": [
    "total_fares = pyber_data_df[\"fare\"].sum()\n",
    "total_fares"
   ]
  },
  {
   "cell_type": "code",
   "execution_count": null,
   "id": "63fad1ce-cefa-4173-ad31-52473c5cd3c8",
   "metadata": {},
   "outputs": [],
   "source": [
    "type_percents = 100 * sum_fares_by_type / total_fares\n",
    "type_percents"
   ]
  },
  {
   "cell_type": "code",
   "execution_count": 25,
   "id": "d7282602-e051-4e4c-a2a1-117f19e6aae8",
   "metadata": {},
   "outputs": [],
   "source": [
    "labels = [\"Rural\", \"Suburban\", \"Urban\"]\n",
    "colors = [\"gold\", \"lightskyblue\", \"lightcoral\"]"
   ]
  },
  {
   "cell_type": "code",
   "execution_count": 26,
   "id": "36859897-0aaa-4e60-9c9b-e8823207b3a8",
   "metadata": {},
   "outputs": [],
   "source": [
    "explode=[0, 0, 0.1]\n",
    "autopct='%1.1f%%'\n",
    "shadow=True\n",
    "startangle = 152"
   ]
  },
  {
   "cell_type": "code",
   "execution_count": null,
   "id": "c6e4bb15-c6fb-47ec-b9af-1c5077e732b6",
   "metadata": {},
   "outputs": [],
   "source": [
    "import matplotlib as mpl\n",
    "plt.pie(type_percents, \n",
    "        labels=(labels),\n",
    "        colors=(colors),\n",
    "        explode=[0, 0, 0.1],\n",
    "        autopct='%1.1f%%',\n",
    "        shadow=True,\n",
    "        startangle = 152\n",
    "       )\n",
    "plt.title(\"% of Total Fares by City Type\")\n",
    "mpl.rcParams['font.size'] = 14"
   ]
  },
  {
   "cell_type": "code",
   "execution_count": null,
   "id": "b36e9a96-5b49-402e-bae5-e010b355f968",
   "metadata": {},
   "outputs": [],
   "source": [
    "plt.savefig(\"analysis/Fig5.png\")"
   ]
  },
  {
   "cell_type": "code",
   "execution_count": null,
   "id": "afbc330c-39a7-4d10-b24e-ebe61931f503",
   "metadata": {},
   "outputs": [],
   "source": [
    "#Total number of rides by city type\n",
    "sum_rides_by_type = pyber_data_df.groupby([\"type\"]).count()[\"ride_id\"]\n",
    "#total number of rides for all cities\n",
    "total_rides = pyber_data_df[\"ride_id\"].count()\n",
    "#calculate the percentage\n",
    "ride_percents = 100 * (sum_rides_by_type) / (total_rides) \n",
    "ride_percents"
   ]
  },
  {
   "cell_type": "code",
   "execution_count": null,
   "id": "7b7ec68f-09bb-4dea-bd23-57600b7f8aa8",
   "metadata": {},
   "outputs": [],
   "source": [
    "plt.pie(ride_percents,\n",
    "        labels=(labels),\n",
    "        colors=(colors),\n",
    "        explode=(explode),\n",
    "        autopct=(autopct),\n",
    "        shadow=(shadow),\n",
    "        startangle=(startangle)\n",
    "       )\n",
    "plt.title(\"% of Total Rides by City Type\")\n",
    "mpl.rcParams['font.size']=14\n",
    "plt.show()"
   ]
  },
  {
   "cell_type": "code",
   "execution_count": null,
   "id": "0ee050e8-a5d9-4e4a-91c0-b1a967e1e01f",
   "metadata": {},
   "outputs": [],
   "source": [
    "plt.savefig('analysis/fig6.png')"
   ]
  },
  {
   "cell_type": "code",
   "execution_count": 27,
   "id": "d4edd694-8a7a-4d68-a569-b8e498e69a34",
   "metadata": {},
   "outputs": [
    {
     "data": {
      "application/vnd.jupyter.widget-view+json": {
       "model_id": "81f8790d714b42769235ae41b4367115",
       "version_major": 2,
       "version_minor": 0
      },
      "image/png": "[encoded data removed]",
      "text/html": [
       "\n",
       "            <div style=\"display: inline-block;\">\n",
       "                <div class=\"jupyter-widgets widget-label\" style=\"text-align: center;\">\n",
       "                    Figure\n",
       "                </div>\n",
       "                <img src='data:image/png;base64,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' width=640.0/>\n",
       "            </div>\n",
       "        "
      ],
      "text/plain": [
       "Canvas(toolbar=Toolbar(toolitems=[('Home', 'Reset original view', 'home', 'home'), ('Back', 'Back to previous …"
      ]
     },
     "metadata": {},
     "output_type": "display_data"
    }
   ],
   "source": [
    "driver_percents = 100 * city_data_df.groupby([\"type\"]).sum()[\"driver_count\"] / city_data_df[\"driver_count\"].sum()\n",
    "plt.pie(driver_percents,\n",
    "        labels=(labels),\n",
    "        colors=(colors),\n",
    "        explode=(explode),\n",
    "        autopct=(autopct),\n",
    "        shadow=(shadow),\n",
    "        startangle=(startangle)\n",
    "       )\n",
    "plt.title(\"% of Total Drivers by City Type\")\n",
    "mpl.rcParams['font.size']=14\n",
    "plt.show()"
   ]
  },
  {
   "cell_type": "code",
   "execution_count": 28,
   "id": "657ea902-2aa1-4d06-97c0-3a55226bfb4c",
   "metadata": {},
   "outputs": [],
   "source": [
    "plt.savefig(\"analysis/fig7.png\")"
   ]
  },
  {
   "cell_type": "code",
   "execution_count": null,
   "id": "cc2546c7-1a74-40b0-bc25-2da256b659c3",
   "metadata": {},
   "outputs": [],
   "source": []
  }
 ],
 "metadata": {
  "kernelspec": {
   "display_name": "PythonData",
   "language": "python",
   "name": "pythondata"
  },
  "language_info": {
   "codemirror_mode": {
    "name": "ipython",
    "version": 3
   },
   "file_extension": ".py",
   "mimetype": "text/x-python",
   "name": "python",
   "nbconvert_exporter": "python",
   "pygments_lexer": "ipython3",
   "version": "3.7.13"
  }
 },
 "nbformat": 4,
 "nbformat_minor": 5
}
