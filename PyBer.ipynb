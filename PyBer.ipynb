{
 "cells": [
  {
   "cell_type": "code",
   "execution_count": 4,
   "id": "a3d917b7-f033-4422-b290-e76c8e6a08dc",
   "metadata": {},
   "outputs": [],
   "source": [
    "#Start making magic!\n",
    "%matplotlib widget\n"
   ]
  },
  {
   "cell_type": "code",
   "execution_count": 5,
   "id": "9b602bb1-45a0-4863-b621-a22e0f44c0ec",
   "metadata": {},
   "outputs": [],
   "source": [
    "#Import Dependencies\n",
    "import matplotlib.pyplot as plt\n",
    "import pandas as pd"
   ]
  },
  {
   "cell_type": "code",
   "execution_count": 6,
   "id": "c1d6ccfd-b138-4747-966c-7fd0ba991230",
   "metadata": {},
   "outputs": [],
   "source": [
    "#Initial load in of the data\n",
    "city_data_to_load = \"Resources/city_data.csv\"\n",
    "ride_data_to_load = \"Resources/ride_data.csv\""
   ]
  },
  {
   "cell_type": "code",
   "execution_count": 7,
   "id": "c42c9272-9c6d-46f3-95e9-21f98316d0eb",
   "metadata": {},
   "outputs": [
    {
     "data": {
      "text/html": [
       "<div>\n",
       "<style scoped>\n",
       "    .dataframe tbody tr th:only-of-type {\n",
       "        vertical-align: middle;\n",
       "    }\n",
       "\n",
       "    .dataframe tbody tr th {\n",
       "        vertical-align: top;\n",
       "    }\n",
       "\n",
       "    .dataframe thead th {\n",
       "        text-align: right;\n",
       "    }\n",
       "</style>\n",
       "<table border=\"1\" class=\"dataframe\">\n",
       "  <thead>\n",
       "    <tr style=\"text-align: right;\">\n",
       "      <th></th>\n",
       "      <th>city</th>\n",
       "      <th>driver_count</th>\n",
       "      <th>type</th>\n",
       "    </tr>\n",
       "  </thead>\n",
       "  <tbody>\n",
       "    <tr>\n",
       "      <th>0</th>\n",
       "      <td>Richardfort</td>\n",
       "      <td>38</td>\n",
       "      <td>Urban</td>\n",
       "    </tr>\n",
       "    <tr>\n",
       "      <th>1</th>\n",
       "      <td>Williamsstad</td>\n",
       "      <td>59</td>\n",
       "      <td>Urban</td>\n",
       "    </tr>\n",
       "    <tr>\n",
       "      <th>2</th>\n",
       "      <td>Port Angela</td>\n",
       "      <td>67</td>\n",
       "      <td>Urban</td>\n",
       "    </tr>\n",
       "    <tr>\n",
       "      <th>3</th>\n",
       "      <td>Rodneyfort</td>\n",
       "      <td>34</td>\n",
       "      <td>Urban</td>\n",
       "    </tr>\n",
       "    <tr>\n",
       "      <th>4</th>\n",
       "      <td>West Robert</td>\n",
       "      <td>39</td>\n",
       "      <td>Urban</td>\n",
       "    </tr>\n",
       "  </tbody>\n",
       "</table>\n",
       "</div>"
      ],
      "text/plain": [
       "           city  driver_count   type\n",
       "0   Richardfort            38  Urban\n",
       "1  Williamsstad            59  Urban\n",
       "2   Port Angela            67  Urban\n",
       "3    Rodneyfort            34  Urban\n",
       "4   West Robert            39  Urban"
      ]
     },
     "execution_count": 7,
     "metadata": {},
     "output_type": "execute_result"
    }
   ],
   "source": [
    "#read city data and sore as a pandas df\n",
    "city_data_df = pd.read_csv(city_data_to_load)\n",
    "city_data_df.head()"
   ]
  },
  {
   "cell_type": "code",
   "execution_count": 8,
   "id": "fe1fb14e-fc37-4d33-bc1c-5181732acc86",
   "metadata": {},
   "outputs": [],
   "source": [
    "#read ride data and sore as a pandas df\n",
    "ride_data_df = pd.read_csv(ride_data_to_load)"
   ]
  },
  {
   "cell_type": "code",
   "execution_count": 9,
   "id": "563cea5d-f83b-4417-8846-6e58d064c8fe",
   "metadata": {},
   "outputs": [
    {
     "data": {
      "text/plain": [
       "city            120\n",
       "driver_count    120\n",
       "type            120\n",
       "dtype: int64"
      ]
     },
     "execution_count": 9,
     "metadata": {},
     "output_type": "execute_result"
    }
   ],
   "source": [
    "#columns and rows that are not null\n",
    "city_data_df.count()"
   ]
  },
  {
   "cell_type": "code",
   "execution_count": 10,
   "id": "56268dd0-495d-4c65-bd8a-cab13c88414d",
   "metadata": {},
   "outputs": [
    {
     "data": {
      "text/plain": [
       "city            0\n",
       "driver_count    0\n",
       "type            0\n",
       "dtype: int64"
      ]
     },
     "execution_count": 10,
     "metadata": {},
     "output_type": "execute_result"
    }
   ],
   "source": [
    "#count any null columns and rows\n",
    "city_data_df.isnull().sum()"
   ]
  },
  {
   "cell_type": "code",
   "execution_count": 11,
   "id": "8550d49b-8233-4743-a122-31c95ca9e8db",
   "metadata": {},
   "outputs": [
    {
     "data": {
      "text/plain": [
       "city            object\n",
       "driver_count     int64\n",
       "type            object\n",
       "dtype: object"
      ]
     },
     "execution_count": 11,
     "metadata": {},
     "output_type": "execute_result"
    }
   ],
   "source": [
    "#get the datatypes\n",
    "city_data_df.dtypes"
   ]
  },
  {
   "cell_type": "code",
   "execution_count": 12,
   "id": "a900db0a-2417-44b9-b9c5-8265f258ec64",
   "metadata": {},
   "outputs": [
    {
     "data": {
      "text/plain": [
       "array(['Urban', 'Suburban', 'Rural'], dtype=object)"
      ]
     },
     "execution_count": 12,
     "metadata": {},
     "output_type": "execute_result"
    }
   ],
   "source": [
    "city_data_df[\"type\"].unique()"
   ]
  },
  {
   "cell_type": "code",
   "execution_count": 13,
   "id": "a5ac8bd9-cd3f-4575-a211-6ad509b4f06a",
   "metadata": {},
   "outputs": [
    {
     "data": {
      "text/plain": [
       "66"
      ]
     },
     "execution_count": 13,
     "metadata": {},
     "output_type": "execute_result"
    }
   ],
   "source": [
    "sum(city_data_df['type']=='Urban')"
   ]
  },
  {
   "cell_type": "code",
   "execution_count": 14,
   "id": "9d050eaf-3fc7-4bc4-8496-925db8a8cb16",
   "metadata": {},
   "outputs": [
    {
     "data": {
      "text/plain": [
       "36"
      ]
     },
     "execution_count": 14,
     "metadata": {},
     "output_type": "execute_result"
    }
   ],
   "source": [
    "sum(city_data_df['type']=='Suburban')"
   ]
  },
  {
   "cell_type": "code",
   "execution_count": 15,
   "id": "7477aeac-ed9b-4f00-bc6f-70d6b320d703",
   "metadata": {},
   "outputs": [
    {
     "data": {
      "text/plain": [
       "18"
      ]
     },
     "execution_count": 15,
     "metadata": {},
     "output_type": "execute_result"
    }
   ],
   "source": [
    "sum(city_data_df['type']=='Rural')"
   ]
  },
  {
   "cell_type": "code",
   "execution_count": 16,
   "id": "764c4760-908e-465b-885c-1e7daa9eff33",
   "metadata": {},
   "outputs": [
    {
     "data": {
      "text/plain": [
       "city       2375\n",
       "date       2375\n",
       "fare       2375\n",
       "ride_id    2375\n",
       "dtype: int64"
      ]
     },
     "execution_count": 16,
     "metadata": {},
     "output_type": "execute_result"
    }
   ],
   "source": [
    "#count ride data df rows\n",
    "ride_data_df.count()"
   ]
  },
  {
   "cell_type": "code",
   "execution_count": 17,
   "id": "0137aa7d-416c-463e-9912-b995cec91419",
   "metadata": {},
   "outputs": [
    {
     "data": {
      "text/plain": [
       "city       0\n",
       "date       0\n",
       "fare       0\n",
       "ride_id    0\n",
       "dtype: int64"
      ]
     },
     "execution_count": 17,
     "metadata": {},
     "output_type": "execute_result"
    }
   ],
   "source": [
    "ride_data_df.isnull().sum()"
   ]
  },
  {
   "cell_type": "code",
   "execution_count": 18,
   "id": "216446f4-7421-45a1-9c81-e2a779a97e18",
   "metadata": {},
   "outputs": [],
   "source": [
    "#LOOKS GOOD!"
   ]
  },
  {
   "cell_type": "code",
   "execution_count": 19,
   "id": "3e0a8e08-e4cb-444b-95d2-98176fe74b3e",
   "metadata": {},
   "outputs": [
    {
     "data": {
      "text/plain": [
       "city        object\n",
       "date        object\n",
       "fare       float64\n",
       "ride_id      int64\n",
       "dtype: object"
      ]
     },
     "execution_count": 19,
     "metadata": {},
     "output_type": "execute_result"
    }
   ],
   "source": [
    "ride_data_df.dtypes"
   ]
  },
  {
   "cell_type": "code",
   "execution_count": 20,
   "id": "bc509000-f3bd-4e23-afe1-067ac9a9d7fa",
   "metadata": {},
   "outputs": [
    {
     "data": {
      "text/html": [
       "<div>\n",
       "<style scoped>\n",
       "    .dataframe tbody tr th:only-of-type {\n",
       "        vertical-align: middle;\n",
       "    }\n",
       "\n",
       "    .dataframe tbody tr th {\n",
       "        vertical-align: top;\n",
       "    }\n",
       "\n",
       "    .dataframe thead th {\n",
       "        text-align: right;\n",
       "    }\n",
       "</style>\n",
       "<table border=\"1\" class=\"dataframe\">\n",
       "  <thead>\n",
       "    <tr style=\"text-align: right;\">\n",
       "      <th></th>\n",
       "      <th>city</th>\n",
       "      <th>date</th>\n",
       "      <th>fare</th>\n",
       "      <th>ride_id</th>\n",
       "      <th>driver_count</th>\n",
       "      <th>type</th>\n",
       "    </tr>\n",
       "  </thead>\n",
       "  <tbody>\n",
       "    <tr>\n",
       "      <th>0</th>\n",
       "      <td>Lake Jonathanshire</td>\n",
       "      <td>2019-01-14 10:14:22</td>\n",
       "      <td>13.83</td>\n",
       "      <td>5739410935873</td>\n",
       "      <td>5</td>\n",
       "      <td>Urban</td>\n",
       "    </tr>\n",
       "    <tr>\n",
       "      <th>1</th>\n",
       "      <td>South Michelleport</td>\n",
       "      <td>2019-03-04 18:24:09</td>\n",
       "      <td>30.24</td>\n",
       "      <td>2343912425577</td>\n",
       "      <td>72</td>\n",
       "      <td>Urban</td>\n",
       "    </tr>\n",
       "    <tr>\n",
       "      <th>2</th>\n",
       "      <td>Port Samanthamouth</td>\n",
       "      <td>2019-02-24 04:29:00</td>\n",
       "      <td>33.44</td>\n",
       "      <td>2005065760003</td>\n",
       "      <td>57</td>\n",
       "      <td>Urban</td>\n",
       "    </tr>\n",
       "    <tr>\n",
       "      <th>3</th>\n",
       "      <td>Rodneyfort</td>\n",
       "      <td>2019-02-10 23:22:03</td>\n",
       "      <td>23.44</td>\n",
       "      <td>5149245426178</td>\n",
       "      <td>34</td>\n",
       "      <td>Urban</td>\n",
       "    </tr>\n",
       "    <tr>\n",
       "      <th>4</th>\n",
       "      <td>South Jack</td>\n",
       "      <td>2019-03-06 04:28:35</td>\n",
       "      <td>34.58</td>\n",
       "      <td>3908451377344</td>\n",
       "      <td>46</td>\n",
       "      <td>Urban</td>\n",
       "    </tr>\n",
       "  </tbody>\n",
       "</table>\n",
       "</div>"
      ],
      "text/plain": [
       "                 city                 date   fare        ride_id  \\\n",
       "0  Lake Jonathanshire  2019-01-14 10:14:22  13.83  5739410935873   \n",
       "1  South Michelleport  2019-03-04 18:24:09  30.24  2343912425577   \n",
       "2  Port Samanthamouth  2019-02-24 04:29:00  33.44  2005065760003   \n",
       "3          Rodneyfort  2019-02-10 23:22:03  23.44  5149245426178   \n",
       "4          South Jack  2019-03-06 04:28:35  34.58  3908451377344   \n",
       "\n",
       "   driver_count   type  \n",
       "0             5  Urban  \n",
       "1            72  Urban  \n",
       "2            57  Urban  \n",
       "3            34  Urban  \n",
       "4            46  Urban  "
      ]
     },
     "execution_count": 20,
     "metadata": {},
     "output_type": "execute_result"
    }
   ],
   "source": [
    "#Merge the dfs into one\n",
    "#We can use the common value of 'city'\n",
    "#This will take the 'city data' and apply it acorss the 'ride data'\n",
    "pyber_data_df =pd.merge(ride_data_df, city_data_df, how='left', on=['city','city'])\n",
    "pyber_data_df.head()"
   ]
  },
  {
   "cell_type": "code",
   "execution_count": 21,
   "id": "73c91790-3f58-4641-988c-9d2704e8147b",
   "metadata": {},
   "outputs": [
    {
     "data": {
      "text/html": [
       "<div>\n",
       "<style scoped>\n",
       "    .dataframe tbody tr th:only-of-type {\n",
       "        vertical-align: middle;\n",
       "    }\n",
       "\n",
       "    .dataframe tbody tr th {\n",
       "        vertical-align: top;\n",
       "    }\n",
       "\n",
       "    .dataframe thead th {\n",
       "        text-align: right;\n",
       "    }\n",
       "</style>\n",
       "<table border=\"1\" class=\"dataframe\">\n",
       "  <thead>\n",
       "    <tr style=\"text-align: right;\">\n",
       "      <th></th>\n",
       "      <th>city</th>\n",
       "      <th>date</th>\n",
       "      <th>fare</th>\n",
       "      <th>ride_id</th>\n",
       "      <th>driver_count</th>\n",
       "      <th>type</th>\n",
       "    </tr>\n",
       "  </thead>\n",
       "  <tbody>\n",
       "    <tr>\n",
       "      <th>2370</th>\n",
       "      <td>Michaelberg</td>\n",
       "      <td>2019-04-29 17:04:39</td>\n",
       "      <td>13.38</td>\n",
       "      <td>8550365057598</td>\n",
       "      <td>6</td>\n",
       "      <td>Rural</td>\n",
       "    </tr>\n",
       "    <tr>\n",
       "      <th>2371</th>\n",
       "      <td>Lake Latoyabury</td>\n",
       "      <td>2019-01-30 00:05:47</td>\n",
       "      <td>20.76</td>\n",
       "      <td>9018727594352</td>\n",
       "      <td>2</td>\n",
       "      <td>Rural</td>\n",
       "    </tr>\n",
       "    <tr>\n",
       "      <th>2372</th>\n",
       "      <td>North Jaime</td>\n",
       "      <td>2019-02-10 21:03:50</td>\n",
       "      <td>11.11</td>\n",
       "      <td>2781339863778</td>\n",
       "      <td>1</td>\n",
       "      <td>Rural</td>\n",
       "    </tr>\n",
       "    <tr>\n",
       "      <th>2373</th>\n",
       "      <td>West Heather</td>\n",
       "      <td>2019-05-07 19:22:15</td>\n",
       "      <td>44.94</td>\n",
       "      <td>4256853490277</td>\n",
       "      <td>4</td>\n",
       "      <td>Rural</td>\n",
       "    </tr>\n",
       "    <tr>\n",
       "      <th>2374</th>\n",
       "      <td>Newtonview</td>\n",
       "      <td>2019-04-25 10:20:13</td>\n",
       "      <td>55.84</td>\n",
       "      <td>9990581345298</td>\n",
       "      <td>1</td>\n",
       "      <td>Rural</td>\n",
       "    </tr>\n",
       "  </tbody>\n",
       "</table>\n",
       "</div>"
      ],
      "text/plain": [
       "                 city                 date   fare        ride_id  \\\n",
       "2370      Michaelberg  2019-04-29 17:04:39  13.38  8550365057598   \n",
       "2371  Lake Latoyabury  2019-01-30 00:05:47  20.76  9018727594352   \n",
       "2372      North Jaime  2019-02-10 21:03:50  11.11  2781339863778   \n",
       "2373     West Heather  2019-05-07 19:22:15  44.94  4256853490277   \n",
       "2374       Newtonview  2019-04-25 10:20:13  55.84  9990581345298   \n",
       "\n",
       "      driver_count   type  \n",
       "2370             6  Rural  \n",
       "2371             2  Rural  \n",
       "2372             1  Rural  \n",
       "2373             4  Rural  \n",
       "2374             1  Rural  "
      ]
     },
     "execution_count": 21,
     "metadata": {},
     "output_type": "execute_result"
    }
   ],
   "source": [
    "pyber_data_df.tail()"
   ]
  },
  {
   "cell_type": "code",
   "execution_count": 22,
   "id": "97a08c82-e2bb-41af-bd45-387d535186cd",
   "metadata": {},
   "outputs": [],
   "source": [
    "#Create data frames for each city type\n",
    "urban_cities_df = pyber_data_df[pyber_data_df[\"type\"] == \"Urban\"]\n",
    "suburban_cities_df = pyber_data_df[pyber_data_df[\"type\"] == \"Suburban\"]\n",
    "rural_cities_df = pyber_data_df[pyber_data_df[\"type\"] == \"Rural\"]"
   ]
  },
  {
   "cell_type": "code",
   "execution_count": 23,
   "id": "9afc8986-07e5-4fd5-8dde-766f6f6209d5",
   "metadata": {},
   "outputs": [
    {
     "data": {
      "text/html": [
       "<div>\n",
       "<style scoped>\n",
       "    .dataframe tbody tr th:only-of-type {\n",
       "        vertical-align: middle;\n",
       "    }\n",
       "\n",
       "    .dataframe tbody tr th {\n",
       "        vertical-align: top;\n",
       "    }\n",
       "\n",
       "    .dataframe thead th {\n",
       "        text-align: right;\n",
       "    }\n",
       "</style>\n",
       "<table border=\"1\" class=\"dataframe\">\n",
       "  <thead>\n",
       "    <tr style=\"text-align: right;\">\n",
       "      <th></th>\n",
       "      <th>city</th>\n",
       "      <th>date</th>\n",
       "      <th>fare</th>\n",
       "      <th>ride_id</th>\n",
       "      <th>driver_count</th>\n",
       "      <th>type</th>\n",
       "    </tr>\n",
       "  </thead>\n",
       "  <tbody>\n",
       "    <tr>\n",
       "      <th>2250</th>\n",
       "      <td>Randallchester</td>\n",
       "      <td>2019-04-13 11:13:31</td>\n",
       "      <td>43.22</td>\n",
       "      <td>1076079536213</td>\n",
       "      <td>9</td>\n",
       "      <td>Rural</td>\n",
       "    </tr>\n",
       "    <tr>\n",
       "      <th>2251</th>\n",
       "      <td>North Holly</td>\n",
       "      <td>2019-02-02 14:54:00</td>\n",
       "      <td>12.42</td>\n",
       "      <td>1985256326182</td>\n",
       "      <td>8</td>\n",
       "      <td>Rural</td>\n",
       "    </tr>\n",
       "    <tr>\n",
       "      <th>2252</th>\n",
       "      <td>Michaelberg</td>\n",
       "      <td>2019-03-27 18:27:34</td>\n",
       "      <td>54.85</td>\n",
       "      <td>4421836952718</td>\n",
       "      <td>6</td>\n",
       "      <td>Rural</td>\n",
       "    </tr>\n",
       "    <tr>\n",
       "      <th>2253</th>\n",
       "      <td>Lake Latoyabury</td>\n",
       "      <td>2019-02-23 21:12:24</td>\n",
       "      <td>47.90</td>\n",
       "      <td>3269652929887</td>\n",
       "      <td>2</td>\n",
       "      <td>Rural</td>\n",
       "    </tr>\n",
       "    <tr>\n",
       "      <th>2254</th>\n",
       "      <td>Lake Latoyabury</td>\n",
       "      <td>2019-05-06 08:57:56</td>\n",
       "      <td>51.80</td>\n",
       "      <td>4018025271936</td>\n",
       "      <td>2</td>\n",
       "      <td>Rural</td>\n",
       "    </tr>\n",
       "  </tbody>\n",
       "</table>\n",
       "</div>"
      ],
      "text/plain": [
       "                 city                 date   fare        ride_id  \\\n",
       "2250   Randallchester  2019-04-13 11:13:31  43.22  1076079536213   \n",
       "2251      North Holly  2019-02-02 14:54:00  12.42  1985256326182   \n",
       "2252      Michaelberg  2019-03-27 18:27:34  54.85  4421836952718   \n",
       "2253  Lake Latoyabury  2019-02-23 21:12:24  47.90  3269652929887   \n",
       "2254  Lake Latoyabury  2019-05-06 08:57:56  51.80  4018025271936   \n",
       "\n",
       "      driver_count   type  \n",
       "2250             9  Rural  \n",
       "2251             8  Rural  \n",
       "2252             6  Rural  \n",
       "2253             2  Rural  \n",
       "2254             2  Rural  "
      ]
     },
     "execution_count": 23,
     "metadata": {},
     "output_type": "execute_result"
    }
   ],
   "source": [
    "rural_cities_df.head()"
   ]
  },
  {
   "cell_type": "code",
   "execution_count": 24,
   "id": "19ca9b6e-437d-40a1-9dad-3ce9adb55f70",
   "metadata": {},
   "outputs": [
    {
     "data": {
      "text/plain": [
       "city\n",
       "Amandaburgh        18\n",
       "Barajasview        22\n",
       "Carriemouth        27\n",
       "Christopherfurt    27\n",
       "Deanville          19\n",
       "Name: ride_id, dtype: int64"
      ]
     },
     "execution_count": 24,
     "metadata": {},
     "output_type": "execute_result"
    }
   ],
   "source": [
    "# Ride count for each city type\n",
    "urban_ride_count = urban_cities_df.groupby([\"city\"]).count()[\"ride_id\"]\n",
    "urban_ride_count.head()"
   ]
  },
  {
   "cell_type": "code",
   "execution_count": 25,
   "id": "e25d3166-7703-4e1b-9b1d-dce0df34c0ea",
   "metadata": {},
   "outputs": [],
   "source": [
    "suburban_ride_count = suburban_cities_df.groupby([\"city\"]).count()[\"ride_id\"]\n",
    "rural_ride_count = rural_cities_df.groupby([\"city\"]).count()[\"ride_id\"]"
   ]
  },
  {
   "cell_type": "code",
   "execution_count": 26,
   "id": "cae89098-82cd-4af3-81e9-23789fdb0188",
   "metadata": {},
   "outputs": [],
   "source": [
    "#Get the average fare by city types\n",
    "urban_avg_fare = urban_cities_df.groupby([\"city\"]).mean()[\"fare\"]\n",
    "suburban_avg_fare = suburban_cities_df.groupby([\"city\"]).mean()[\"fare\"]\n",
    "rural_avg_fare = rural_cities_df.groupby([\"city\"]).mean()[\"fare\"]"
   ]
  },
  {
   "cell_type": "code",
   "execution_count": 27,
   "id": "6291dd5f-acd0-4872-81ed-85ab7c31dc33",
   "metadata": {},
   "outputs": [],
   "source": [
    "#Get the average driver count by city type\n",
    "urban_driver_count = urban_cities_df.groupby([\"city\"]).mean()[\"driver_count\"]\n",
    "suburban_driver_count = suburban_cities_df.groupby([\"city\"]).mean()[\"driver_count\"]\n",
    "rural_driver_count = rural_cities_df.groupby([\"city\"]).mean()[\"driver_count\"]"
   ]
  },
  {
   "cell_type": "code",
   "execution_count": null,
   "id": "3f660165-e83d-4420-abd8-d427dcc6e7ec",
   "metadata": {},
   "outputs": [],
   "source": [
    "urban_driver_count.head()"
   ]
  },
  {
   "cell_type": "code",
   "execution_count": null,
   "id": "e0913bb1-1d7b-45af-8dee-44e86770d6a8",
   "metadata": {},
   "outputs": [],
   "source": [
    "plt.scatter(urban_ride_count, \n",
    "            urban_avg_fare,\n",
    "            s=10*urban_driver_count, c=\"coral\",\n",
    "            edgecolor=\"black\", linewidths=1,\n",
    "            alpha=0.8, label=\"Urban\")\n",
    "plt.title(\"PyBer Ride Sharing Data (2019)\")\n",
    "plt.ylabel(\"Average Fare ($)\")\n",
    "plt.xlabel(\"Total Number if Rides (Per City)\")\n",
    "plt.grid(True)\n",
    "plt.legend()\n",
    "plt.show()"
   ]
  },
  {
   "cell_type": "code",
   "execution_count": null,
   "id": "14c3378f-c903-428a-b064-eee171868ad1",
   "metadata": {},
   "outputs": [],
   "source": [
    "plt.scatter(suburban_ride_count, \n",
    "            suburban_avg_fare,\n",
    "            s=10*suburban_driver_count, c=\"skyblue\",\n",
    "            edgecolor=\"black\", linewidths=1,\n",
    "            alpha=0.8, label=\"Suburban\")\n",
    "plt.title(\"PyBer Ride Sharing Data (2019)\")\n",
    "plt.ylabel(\"Average Fare ($)\")\n",
    "plt.xlabel(\"Total Number if Rides (Per City)\")\n",
    "plt.grid(True)\n",
    "plt.legend()\n",
    "plt.show()"
   ]
  },
  {
   "cell_type": "code",
   "execution_count": null,
   "id": "f04af7a7-a66b-4ae2-b3fc-1e4ba37d5a66",
   "metadata": {},
   "outputs": [],
   "source": [
    "plt.subplots(figsize=(12,6))\n",
    "plt.scatter(urban_ride_count, \n",
    "            urban_avg_fare,\n",
    "            s=10*urban_driver_count, c=\"coral\",\n",
    "            edgecolor=\"black\", linewidths=1,\n",
    "            alpha=0.8, label=\"Urban\")\n",
    "\n",
    "\n",
    "plt.scatter(suburban_ride_count, \n",
    "            suburban_avg_fare,\n",
    "            s=10*suburban_driver_count, c=\"skyblue\",\n",
    "            edgecolor=\"black\", linewidths=1,\n",
    "            alpha=0.8, label=\"Suburban\")\n",
    "\n",
    "\n",
    "plt.scatter(rural_ride_count, \n",
    "            rural_avg_fare,\n",
    "            s=10*rural_driver_count, c=\"gold\",\n",
    "            edgecolor=\"black\", linewidths=1,\n",
    "            alpha=0.8, label=\"Rural\")\n",
    "\n",
    "plt.title(\"PyBer Ride Sharing Data (2019)\", fontsize=20)\n",
    "plt.ylabel(\"Average Fare ($)\",fontsize=12)\n",
    "plt.xlabel(\"Total Number of Rides (Per City)\",fontsize=12)\n",
    "plt.grid(True)\n",
    "plt.legend()\n",
    "lgnd= plt.legend(fontsize=\"12\", mode=\"Expanded\",\n",
    "                 scatterpoints=1, loc='best', title=\"City Types\")\n",
    "lgnd.legendHandles[0]._sizes = [75]\n",
    "lgnd.legendHandles[1]._sizes = [75]\n",
    "lgnd.legendHandles[2]._sizes = [75]\n",
    "plt.text(42, 35, \"Note: Circle size correlates with driver count per city.\", fontsize=\"12\", wrap=True)\n",
    "plt.show()"
   ]
  },
  {
   "cell_type": "code",
   "execution_count": null,
   "id": "96de34c8-6b18-4cf3-b5e2-cccac859811c",
   "metadata": {},
   "outputs": [],
   "source": [
    "plt.savefig(\"Analysis/fig1.png\")"
   ]
  },
  {
   "cell_type": "code",
   "execution_count": null,
   "id": "38322b42-017d-449a-8563-b8dd36c56558",
   "metadata": {},
   "outputs": [],
   "source": [
    "# Get Summary Statistics\n",
    "urban_cities_df.describe()"
   ]
  },
  {
   "cell_type": "code",
   "execution_count": null,
   "id": "f2839f57-1ad1-4d5b-9b1b-f57346ac96c7",
   "metadata": {},
   "outputs": [],
   "source": [
    "suburban_cities_df.describe()"
   ]
  },
  {
   "cell_type": "code",
   "execution_count": null,
   "id": "69f0ed34-630a-49f3-ac18-04856e71a4a1",
   "metadata": {},
   "outputs": [],
   "source": [
    "rural_cities_df.describe()"
   ]
  },
  {
   "cell_type": "code",
   "execution_count": null,
   "id": "8df05f40-57ec-4d2f-8232-bba0949459e5",
   "metadata": {},
   "outputs": [],
   "source": [
    "urban_ride_count.describe()"
   ]
  },
  {
   "cell_type": "code",
   "execution_count": null,
   "id": "f223150a-25df-4bc7-b9f3-9b6177bda1fb",
   "metadata": {},
   "outputs": [],
   "source": [
    "suburban_ride_count.describe()"
   ]
  },
  {
   "cell_type": "code",
   "execution_count": null,
   "id": "9692d93d-70ac-4eda-946b-701f16de9a84",
   "metadata": {},
   "outputs": [],
   "source": [
    "rural_ride_count.describe()"
   ]
  },
  {
   "cell_type": "code",
   "execution_count": null,
   "id": "5ccbdb5c-6e6e-4a80-bb58-6211ed96392b",
   "metadata": {},
   "outputs": [],
   "source": [
    "round(urban_ride_count.mean(), 2), round(suburban_ride_count.mean(), 2), round(rural_ride_count.mean(), 2)"
   ]
  },
  {
   "cell_type": "code",
   "execution_count": null,
   "id": "87d5a8d1-94d4-41c9-8ab5-70579336c39b",
   "metadata": {},
   "outputs": [],
   "source": [
    "urban_ride_count.median()"
   ]
  },
  {
   "cell_type": "code",
   "execution_count": null,
   "id": "d226cb85-6bd2-41d4-9a30-895e42f6a46b",
   "metadata": {},
   "outputs": [],
   "source": [
    "urban_ride_count.mode()"
   ]
  },
  {
   "cell_type": "code",
   "execution_count": null,
   "id": "5a81620d-8b59-45f9-bd2b-427f1dab179b",
   "metadata": {},
   "outputs": [],
   "source": [
    "suburban_ride_count.mode()"
   ]
  },
  {
   "cell_type": "code",
   "execution_count": null,
   "id": "864f7384-cbc6-4319-87f7-73c47d9e7cbb",
   "metadata": {},
   "outputs": [],
   "source": [
    "import numpy as np\n",
    "import scipy.stats as sts"
   ]
  },
  {
   "cell_type": "code",
   "execution_count": null,
   "id": "045a30be-30b7-47ad-a0cc-6c11d9a12daf",
   "metadata": {},
   "outputs": [],
   "source": [
    "# Calculate the measures of central tendency for the ride count for the urban cities.\n",
    "mean_urban_ride_count = np.mean(urban_ride_count)\n",
    "print(f\"The mean for the ride counts for urban trips is {mean_urban_ride_count:.2f}.\")\n",
    "\n",
    "median_urban_ride_count = np.median(urban_ride_count)\n",
    "print(f\"The median for the ride counts for urban trips is {median_urban_ride_count}.\")\n",
    "\n",
    "mode_urban_ride_count = sts.mode(urban_ride_count)\n",
    "print(f\"The mode for the ride counts for urban trips is {mode_urban_ride_count}.\")"
   ]
  },
  {
   "cell_type": "code",
   "execution_count": null,
   "id": "3090fc51-6e25-42c8-a924-be2af7875e28",
   "metadata": {},
   "outputs": [],
   "source": [
    "sts.mode(suburban_ride_count)"
   ]
  },
  {
   "cell_type": "code",
   "execution_count": null,
   "id": "9ffc93cd-053f-430c-81fd-a0cdf77c3ca5",
   "metadata": {},
   "outputs": [],
   "source": [
    "sts.mode(rural_ride_count)"
   ]
  },
  {
   "cell_type": "code",
   "execution_count": null,
   "id": "c3ee04a2-b320-4a5d-8921-cfffd3f86f38",
   "metadata": {},
   "outputs": [],
   "source": [
    "urban_fares = urban_cities_df[\"fare\"]\n",
    "urban_fares.head()"
   ]
  },
  {
   "cell_type": "code",
   "execution_count": null,
   "id": "ca427303-0984-4fde-9abb-e391d4c9d597",
   "metadata": {},
   "outputs": [],
   "source": [
    "urban_fares.describe()"
   ]
  },
  {
   "cell_type": "code",
   "execution_count": null,
   "id": "9e0bdaf9-3393-4f12-b8f6-7c32e6e5978a",
   "metadata": {},
   "outputs": [],
   "source": [
    "mean_urban_fares = np.mean(urban_fares)\n",
    "print(f\"The mean fare price for urban trips is ${mean_urban_fares:.2f}.\")\n",
    "\n",
    "median_urban_fares = np.median(urban_fares)\n",
    "print(f\"The median fare price for urban trips is ${median_urban_fares:.2f}.\")\n",
    "\n",
    "mode_urban_fares = sts.mode(urban_fares)\n",
    "print(f\"The mode fare price for urban trips is {mode_urban_fares}.\")"
   ]
  },
  {
   "cell_type": "code",
   "execution_count": null,
   "id": "da54c721-2ca4-4680-90a2-924adfac46ea",
   "metadata": {},
   "outputs": [],
   "source": [
    "mean_urban_fares = np.mean(urban_fares) \n",
    "suburban_fares = suburban_cities_df[\"fare\"]\n",
    "mean_suburban_fares = np.mean(suburban_fares) \n",
    "rural_fares = rural_cities_df[\"fare\"]\n",
    "mean_rural_fares = np.mean(rural_fares)"
   ]
  },
  {
   "cell_type": "code",
   "execution_count": null,
   "id": "adc0f188-2aec-4c7f-8bed-95acfe2e8059",
   "metadata": {},
   "outputs": [],
   "source": [
    "mean_urban_fares, mean_suburban_fares, mean_rural_fares"
   ]
  },
  {
   "cell_type": "code",
   "execution_count": null,
   "id": "cb7a826f-a7d4-498d-887c-de4d573c74e9",
   "metadata": {},
   "outputs": [],
   "source": [
    "urban_drivers = urban_cities_df['driver_count']\n",
    "suburban_drivers = suburban_cities_df['driver_count']\n",
    "rural_drivers = rural_cities_df['driver_count']\n",
    "urban_drivers.mean(), suburban_drivers.mean(), rural_drivers.mean()"
   ]
  },
  {
   "cell_type": "code",
   "execution_count": null,
   "id": "6fb4e944-c19f-41a3-88d2-338349585b22",
   "metadata": {},
   "outputs": [],
   "source": [
    "#Create a box and whisker plot for the urban cities ride count.\n",
    "x_labels= ['Urban']\n",
    "fix, ax = plt.subplots()\n",
    "ax.boxplot(urban_ride_count, labels=x_labels)\n",
    "\n",
    "ax.set_title(\"Ride Count Data (2019)\")\n",
    "ax.set_ylabel('Number of Rides')\n",
    "ax.set_yticks(np.arange(10, 41, step=2.0))\n",
    "ax.grid()"
   ]
  },
  {
   "cell_type": "code",
   "execution_count": null,
   "id": "0b40d0b5-6726-4cc6-b590-62eb70ebc0f7",
   "metadata": {},
   "outputs": [],
   "source": [
    "plt.savefig(\"Analysis/Urban_ride_count.png\")"
   ]
  },
  {
   "cell_type": "code",
   "execution_count": null,
   "id": "62982a21-1bc9-423b-a0a0-698a4895d44a",
   "metadata": {},
   "outputs": [],
   "source": [
    "#min       9.000000\n",
    "#max      27.000000\n",
    "\n",
    "x_labels= ['Suburban']\n",
    "fix, ax = plt.subplots()\n",
    "ax.boxplot(suburban_ride_count, labels=x_labels)\n",
    "\n",
    "ax.set_title(\"Ride Count Data (2019)\")\n",
    "ax.set_ylabel('Number of Rides')\n",
    "ax.set_yticks(np.arange(8, 29, step=2.0))\n",
    "ax.grid()"
   ]
  },
  {
   "cell_type": "code",
   "execution_count": null,
   "id": "575b44ea-7126-4c81-b91f-8a615e233c25",
   "metadata": {},
   "outputs": [],
   "source": [
    "plt.savefig(\"Analysis/suburban_ride_count.png\")"
   ]
  },
  {
   "cell_type": "code",
   "execution_count": null,
   "id": "4b1ed1bb-7046-48c6-b704-0691cef46fc1",
   "metadata": {},
   "outputs": [],
   "source": [
    "#min       3.000000\n",
    "#max      12.000000\n",
    "\n",
    "x_labels= ['Rural']\n",
    "fix, ax = plt.subplots()\n",
    "ax.boxplot(rural_ride_count, labels=x_labels)\n",
    "\n",
    "ax.set_title(\"Ride Count Data (2019)\")\n",
    "ax.set_ylabel('Number of Rides')\n",
    "ax.set_yticks(np.arange(2, 14, step=2.0))\n",
    "ax.grid()"
   ]
  },
  {
   "cell_type": "code",
   "execution_count": null,
   "id": "f51cc130-f5ee-460b-8844-e6f5c4b3ab3b",
   "metadata": {},
   "outputs": [],
   "source": [
    "plt.savefig(\"Analysis/rural_ride_count.png\")"
   ]
  },
  {
   "cell_type": "code",
   "execution_count": null,
   "id": "b53fabc7-688d-4681-b97d-33b4e43b55b3",
   "metadata": {},
   "outputs": [],
   "source": [
    "#Combine the three sets of ride count data\n",
    "x_labels = [\"Urban\", \"Suburban\",\"Rural\"]\n",
    "ride_count_data = [urban_ride_count, suburban_ride_count, rural_ride_count]\n",
    "fig, ax = plt.subplots(figsize=(10, 6))\n",
    "ax.set_title('Ride Count Data (2019)',fontsize=20)\n",
    "ax.set_ylabel('Number of Rides',fontsize=14)\n",
    "ax.set_xlabel(\"City Types\",fontsize=14)\n",
    "ax.boxplot(ride_count_data, labels=x_labels)\n",
    "ax.set_yticks(np.arange(0, 45, step=3.0))\n",
    "ax.grid()"
   ]
  },
  {
   "cell_type": "code",
   "execution_count": null,
   "id": "bd675f35-3934-41c9-94fc-1b87df97a079",
   "metadata": {},
   "outputs": [],
   "source": [
    "plt.savefig(\"analysis/Fig2.png\")"
   ]
  },
  {
   "cell_type": "code",
   "execution_count": null,
   "id": "27b7e142-86de-4481-9d88-4006ef3afdc5",
   "metadata": {},
   "outputs": [],
   "source": [
    "# Get the city that matches 39.\n",
    "urban_city_outlier = urban_ride_count[urban_ride_count==39].index[0]\n",
    "print(f\"{urban_city_outlier} has the highest rider count.\")"
   ]
  },
  {
   "cell_type": "code",
   "execution_count": null,
   "id": "83b1b612-19eb-436b-8f72-67ad0ffee7cf",
   "metadata": {},
   "outputs": [],
   "source": [
    "x_labels = [\"Urban\", \"Suburban\",\"Rural\"]\n",
    "ride_count_data = [urban_fares, suburban_fares, rural_fares]\n",
    "fig, ax = plt.subplots(figsize=(10, 6))\n",
    "ax.set_title('Ride Fare Data (2019)',fontsize=20)\n",
    "ax.set_ylabel('Fares ($USD)',fontsize=14)\n",
    "ax.set_xlabel(\"City Types\",fontsize=14)\n",
    "ax.boxplot(ride_count_data, labels=x_labels)\n",
    "ax.set_yticks(np.arange(0, 61, step=5.0))\n",
    "ax.grid()"
   ]
  },
  {
   "cell_type": "code",
   "execution_count": null,
   "id": "53f43de0-589b-4eec-b4f4-14b198edda10",
   "metadata": {},
   "outputs": [],
   "source": [
    "plt.savefig(\"analysis/Fig3.png\")"
   ]
  },
  {
   "cell_type": "code",
   "execution_count": null,
   "id": "1c00adf8-7322-4484-bb04-2530717c88d7",
   "metadata": {},
   "outputs": [],
   "source": [
    "x_labels = [\"Urban\", \"Suburban\",\"Rural\"]\n",
    "ride_count_data = [urban_driver_count, suburban_driver_count, rural_driver_count]\n",
    "fig, ax = plt.subplots(figsize=(10, 6))\n",
    "ax.set_title('Driver Count Data (2019)',fontsize=20)\n",
    "ax.set_ylabel('Number of Drivers',fontsize=14)\n",
    "ax.set_xlabel(\"City Types\",fontsize=14)\n",
    "ax.boxplot(ride_count_data, labels=x_labels)\n",
    "ax.set_yticks(np.arange(0, 76, step=5.0))\n",
    "ax.grid()"
   ]
  },
  {
   "cell_type": "code",
   "execution_count": null,
   "id": "dd3e2f5a-f520-4566-9d89-7b3467f69f5c",
   "metadata": {},
   "outputs": [],
   "source": [
    "plt.savefig(\"analysis/Fig4.png\")"
   ]
  },
  {
   "cell_type": "code",
   "execution_count": null,
   "id": "491bdce2-b662-4cfb-94b5-79667302b769",
   "metadata": {},
   "outputs": [],
   "source": [
    "sum_fares_by_type = pyber_data_df.groupby([\"type\"]).sum()[\"fare\"]\n",
    "sum_fares_by_type"
   ]
  },
  {
   "cell_type": "code",
   "execution_count": null,
   "id": "62b1af9f-534d-473b-82fd-488b15f34475",
   "metadata": {},
   "outputs": [],
   "source": [
    "total_fares = pyber_data_df[\"fare\"].sum()\n",
    "total_fares"
   ]
  },
  {
   "cell_type": "code",
   "execution_count": null,
   "id": "63fad1ce-cefa-4173-ad31-52473c5cd3c8",
   "metadata": {},
   "outputs": [],
   "source": [
    "type_percents = 100 * sum_fares_by_type / total_fares\n",
    "type_percents"
   ]
  },
  {
   "cell_type": "code",
   "execution_count": 28,
   "id": "d7282602-e051-4e4c-a2a1-117f19e6aae8",
   "metadata": {},
   "outputs": [],
   "source": [
    "labels = [\"Rural\", \"Suburban\", \"Urban\"]\n",
    "colors = [\"gold\", \"lightskyblue\", \"lightcoral\"]"
   ]
  },
  {
   "cell_type": "code",
   "execution_count": null,
   "id": "c6e4bb15-c6fb-47ec-b9af-1c5077e732b6",
   "metadata": {},
   "outputs": [],
   "source": [
    "import matplotlib as mpl\n",
    "plt.pie(type_percents, \n",
    "        labels=(labels),\n",
    "        colors=(colors),\n",
    "        explode=[0, 0, 0.1],\n",
    "        autopct='%1.1f%%',\n",
    "        shadow=True,\n",
    "        startangle = 152\n",
    "       )\n",
    "plt.title(\"% of Total Fares by City Type\")\n",
    "mpl.rcParams['font.size'] = 14"
   ]
  },
  {
   "cell_type": "code",
   "execution_count": null,
   "id": "b36e9a96-5b49-402e-bae5-e010b355f968",
   "metadata": {},
   "outputs": [],
   "source": [
    "plt.savefig(\"analysis/Fig5.png\")"
   ]
  },
  {
   "cell_type": "code",
   "execution_count": 31,
   "id": "afbc330c-39a7-4d10-b24e-ebe61931f503",
   "metadata": {},
   "outputs": [
    {
     "data": {
      "text/plain": [
       "type\n",
       "Rural        5.263158\n",
       "Suburban    26.315789\n",
       "Urban       68.421053\n",
       "Name: ride_id, dtype: float64"
      ]
     },
     "execution_count": 31,
     "metadata": {},
     "output_type": "execute_result"
    }
   ],
   "source": [
    "#Total number of rides by city type\n",
    "sum_rides_by_type = pyber_data_df.groupby([\"type\"]).count()[\"ride_id\"]\n",
    "#total number of rides for all cities\n",
    "total_rides = pyber_data_df[\"ride_id\"].count()\n",
    "#calculate the percentage\n",
    "ride_percents = 100 * (sum_rides_by_type) / (total_rides) \n",
    "ride_percents"
   ]
  },
  {
   "cell_type": "code",
   "execution_count": 32,
   "id": "36859897-0aaa-4e60-9c9b-e8823207b3a8",
   "metadata": {},
   "outputs": [],
   "source": [
    "explode=[0, 0, 0.1]\n",
    "autopct='%1.1f%%'\n",
    "shadow=True\n",
    "startangle = 152"
   ]
  },
  {
   "cell_type": "code",
   "execution_count": 34,
   "id": "7b7ec68f-09bb-4dea-bd23-57600b7f8aa8",
   "metadata": {},
   "outputs": [
    {
     "data": {
      "application/vnd.jupyter.widget-view+json": {
       "model_id": "3dce0b8c905842f7a791dfe583feb344",
       "version_major": 2,
       "version_minor": 0
      },
      "image/png": "[encoded data removed]",
      "text/html": [
       "\n",
       "            <div style=\"display: inline-block;\">\n",
       "                <div class=\"jupyter-widgets widget-label\" style=\"text-align: center;\">\n",
       "                    Figure 1\n",
       "                </div>\n",
       "                <img src='data:image/png;base64,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' width=640.0/>\n",
       "            </div>\n",
       "        "
      ],
      "text/plain": [
       "Canvas(toolbar=Toolbar(toolitems=[('Home', 'Reset original view', 'home', 'home'), ('Back', 'Back to previous …"
      ]
     },
     "metadata": {},
     "output_type": "display_data"
    }
   ],
   "source": [
    "import matplotlib as mpl\n",
    "plt.pie(ride_percents,\n",
    "        labels=(labels),\n",
    "        colors=(colors),\n",
    "        explode=(explode),\n",
    "        autopct=(autopct),\n",
    "        shadow=(shadow),\n",
    "        startangle=(startangle)\n",
    "       )\n",
    "plt.title(\"% of Total Rides by City Type\")\n",
    "mpl.rcParams['font.size']=14\n",
    "plt.show()"
   ]
  },
  {
   "cell_type": "code",
   "execution_count": 35,
   "id": "0ee050e8-a5d9-4e4a-91c0-b1a967e1e01f",
   "metadata": {},
   "outputs": [],
   "source": [
    "plt.savefig('analysis/fig6.png')"
   ]
  },
  {
   "cell_type": "code",
   "execution_count": null,
   "id": "d4edd694-8a7a-4d68-a569-b8e498e69a34",
   "metadata": {},
   "outputs": [],
   "source": []
  }
 ],
 "metadata": {
  "kernelspec": {
   "display_name": "PythonData",
   "language": "python",
   "name": "pythondata"
  },
  "language_info": {
   "codemirror_mode": {
    "name": "ipython",
    "version": 3
   },
   "file_extension": ".py",
   "mimetype": "text/x-python",
   "name": "python",
   "nbconvert_exporter": "python",
   "pygments_lexer": "ipython3",
   "version": "3.7.13"
  }
 },
 "nbformat": 4,
 "nbformat_minor": 5
}
